{
 "cells": [
  {
   "cell_type": "markdown",
   "metadata": {},
   "source": [
    "## MLND Capstone Project"
   ]
  },
  {
   "cell_type": "markdown",
   "metadata": {
    "collapsed": true
   },
   "source": [
    "### KKBOX Music Recommendation Problem"
   ]
  },
  {
   "cell_type": "markdown",
   "metadata": {},
   "source": [
    "#### Importing necessary libraries"
   ]
  },
  {
   "cell_type": "code",
   "execution_count": 1,
   "metadata": {
    "collapsed": true
   },
   "outputs": [],
   "source": [
    "import pandas as pd\n",
    "import numpy as np\n",
    "import seaborn as sns\n",
    "from sklearn.cross_validation import train_test_split\n",
    "from sklearn.preprocessing import LabelEncoder\n",
    "import lightgbm as lgb\n",
    "import xgboost as xgb\n",
    "import time\n",
    "from tqdm import tqdm_notebook\n",
    "import matplotlib.pyplot as plt\n",
    "%matplotlib inline"
   ]
  },
  {
   "cell_type": "markdown",
   "metadata": {},
   "source": [
    "### Data Exploration"
   ]
  },
  {
   "cell_type": "code",
   "execution_count": 2,
   "metadata": {
    "collapsed": true
   },
   "outputs": [],
   "source": [
    "# Reading train and test data\n",
    "train = pd.read_csv('train.csv')\n",
    "test = pd.read_csv('test.csv')"
   ]
  },
  {
   "cell_type": "code",
   "execution_count": 3,
   "metadata": {},
   "outputs": [
    {
     "data": {
      "text/html": [
       "<div>\n",
       "<style>\n",
       "    .dataframe thead tr:only-child th {\n",
       "        text-align: right;\n",
       "    }\n",
       "\n",
       "    .dataframe thead th {\n",
       "        text-align: left;\n",
       "    }\n",
       "\n",
       "    .dataframe tbody tr th {\n",
       "        vertical-align: top;\n",
       "    }\n",
       "</style>\n",
       "<table border=\"1\" class=\"dataframe\">\n",
       "  <thead>\n",
       "    <tr style=\"text-align: right;\">\n",
       "      <th></th>\n",
       "      <th>msno</th>\n",
       "      <th>song_id</th>\n",
       "      <th>source_system_tab</th>\n",
       "      <th>source_screen_name</th>\n",
       "      <th>source_type</th>\n",
       "      <th>target</th>\n",
       "    </tr>\n",
       "  </thead>\n",
       "  <tbody>\n",
       "    <tr>\n",
       "      <th>0</th>\n",
       "      <td>FGtllVqz18RPiwJj/edr2gV78zirAiY/9SmYvia+kCg=</td>\n",
       "      <td>BBzumQNXUHKdEBOB7mAJuzok+IJA1c2Ryg/yzTF6tik=</td>\n",
       "      <td>explore</td>\n",
       "      <td>Explore</td>\n",
       "      <td>online-playlist</td>\n",
       "      <td>1</td>\n",
       "    </tr>\n",
       "    <tr>\n",
       "      <th>1</th>\n",
       "      <td>Xumu+NIjS6QYVxDS4/t3SawvJ7viT9hPKXmf0RtLNx8=</td>\n",
       "      <td>bhp/MpSNoqoxOIB+/l8WPqu6jldth4DIpCm3ayXnJqM=</td>\n",
       "      <td>my library</td>\n",
       "      <td>Local playlist more</td>\n",
       "      <td>local-playlist</td>\n",
       "      <td>1</td>\n",
       "    </tr>\n",
       "    <tr>\n",
       "      <th>2</th>\n",
       "      <td>Xumu+NIjS6QYVxDS4/t3SawvJ7viT9hPKXmf0RtLNx8=</td>\n",
       "      <td>JNWfrrC7zNN7BdMpsISKa4Mw+xVJYNnxXh3/Epw7QgY=</td>\n",
       "      <td>my library</td>\n",
       "      <td>Local playlist more</td>\n",
       "      <td>local-playlist</td>\n",
       "      <td>1</td>\n",
       "    </tr>\n",
       "    <tr>\n",
       "      <th>3</th>\n",
       "      <td>Xumu+NIjS6QYVxDS4/t3SawvJ7viT9hPKXmf0RtLNx8=</td>\n",
       "      <td>2A87tzfnJTSWqD7gIZHisolhe4DMdzkbd6LzO1KHjNs=</td>\n",
       "      <td>my library</td>\n",
       "      <td>Local playlist more</td>\n",
       "      <td>local-playlist</td>\n",
       "      <td>1</td>\n",
       "    </tr>\n",
       "    <tr>\n",
       "      <th>4</th>\n",
       "      <td>FGtllVqz18RPiwJj/edr2gV78zirAiY/9SmYvia+kCg=</td>\n",
       "      <td>3qm6XTZ6MOCU11x8FIVbAGH5l5uMkT3/ZalWG1oo2Gc=</td>\n",
       "      <td>explore</td>\n",
       "      <td>Explore</td>\n",
       "      <td>online-playlist</td>\n",
       "      <td>1</td>\n",
       "    </tr>\n",
       "  </tbody>\n",
       "</table>\n",
       "</div>"
      ],
      "text/plain": [
       "                                           msno  \\\n",
       "0  FGtllVqz18RPiwJj/edr2gV78zirAiY/9SmYvia+kCg=   \n",
       "1  Xumu+NIjS6QYVxDS4/t3SawvJ7viT9hPKXmf0RtLNx8=   \n",
       "2  Xumu+NIjS6QYVxDS4/t3SawvJ7viT9hPKXmf0RtLNx8=   \n",
       "3  Xumu+NIjS6QYVxDS4/t3SawvJ7viT9hPKXmf0RtLNx8=   \n",
       "4  FGtllVqz18RPiwJj/edr2gV78zirAiY/9SmYvia+kCg=   \n",
       "\n",
       "                                        song_id source_system_tab  \\\n",
       "0  BBzumQNXUHKdEBOB7mAJuzok+IJA1c2Ryg/yzTF6tik=           explore   \n",
       "1  bhp/MpSNoqoxOIB+/l8WPqu6jldth4DIpCm3ayXnJqM=        my library   \n",
       "2  JNWfrrC7zNN7BdMpsISKa4Mw+xVJYNnxXh3/Epw7QgY=        my library   \n",
       "3  2A87tzfnJTSWqD7gIZHisolhe4DMdzkbd6LzO1KHjNs=        my library   \n",
       "4  3qm6XTZ6MOCU11x8FIVbAGH5l5uMkT3/ZalWG1oo2Gc=           explore   \n",
       "\n",
       "    source_screen_name      source_type  target  \n",
       "0              Explore  online-playlist       1  \n",
       "1  Local playlist more   local-playlist       1  \n",
       "2  Local playlist more   local-playlist       1  \n",
       "3  Local playlist more   local-playlist       1  \n",
       "4              Explore  online-playlist       1  "
      ]
     },
     "execution_count": 3,
     "metadata": {},
     "output_type": "execute_result"
    }
   ],
   "source": [
    "train.head()"
   ]
  },
  {
   "cell_type": "code",
   "execution_count": 4,
   "metadata": {},
   "outputs": [
    {
     "name": "stdout",
     "output_type": "stream",
     "text": [
      "Training dataset consists of 7377418 rows and 6 columns.\n",
      "Test dataset consists of 2556790 rows and 6 columns.\n"
     ]
    }
   ],
   "source": [
    "# Shape of training and test datasets\n",
    "print 'Training dataset consists of %d rows and %d columns.'%(train.shape[0], train.shape[1])\n",
    "print 'Test dataset consists of %d rows and %d columns.'%(test.shape[0], test.shape[1])"
   ]
  },
  {
   "cell_type": "code",
   "execution_count": 5,
   "metadata": {},
   "outputs": [
    {
     "name": "stdout",
     "output_type": "stream",
     "text": [
      "Songs stats:\n",
      "Training data contains 359966 unique songs and testing data contains 224753 unique songs.\n",
      "59873 of the songs in the test set do no appear in the train set.\n",
      "26.639466 % of the songs in the test set are absent in the train set.\n"
     ]
    }
   ],
   "source": [
    "print 'Songs stats:'\n",
    "songs_in_train_and_test = np.intersect1d(train['song_id'].unique(), test['song_id'].unique())\n",
    "print 'Training data contains %d unique songs and testing data contains %d unique songs.'%(train['song_id'].nunique(), test['song_id'].nunique())\n",
    "print '%d of the songs in the test set do no appear in the train set.'%(test['song_id'].nunique() - songs_in_train_and_test.shape[0])\n",
    "percentage = (test['song_id'].nunique() - songs_in_train_and_test.shape[0])/float(test['song_id'].nunique())\n",
    "print '%f %% of the songs in the test set are absent in the train set.'%(percentage*100)"
   ]
  },
  {
   "cell_type": "code",
   "execution_count": 6,
   "metadata": {},
   "outputs": [
    {
     "name": "stdout",
     "output_type": "stream",
     "text": [
      "User stats:\n",
      "Training data contains 30755 unique users and testing data contains 25131 unique users.\n",
      "3648 of the users in the test set do no appear in the train set.\n",
      "14.515936 % of the users in the test set are absent in the train set.\n"
     ]
    }
   ],
   "source": [
    "print 'User stats:'\n",
    "users_in_test_and_train = np.intersect1d(train['msno'].unique(), test['msno'].unique())\n",
    "print 'Training data contains %d unique users and testing data contains %d unique users.'%(train['msno'].nunique(), test['msno'].nunique())\n",
    "print '%d of the users in the test set do no appear in the train set.'%(test['msno'].nunique() - users_in_test_and_train.shape[0])\n",
    "print '%f %% of the users in the test set are absent in the train set.'%(100*(test['msno'].nunique() - users_in_test_and_train.shape[0])/float(test['msno'].nunique()))"
   ]
  },
  {
   "cell_type": "code",
   "execution_count": 3,
   "metadata": {},
   "outputs": [
    {
     "data": {
      "text/html": [
       "<div>\n",
       "<style>\n",
       "    .dataframe thead tr:only-child th {\n",
       "        text-align: right;\n",
       "    }\n",
       "\n",
       "    .dataframe thead th {\n",
       "        text-align: left;\n",
       "    }\n",
       "\n",
       "    .dataframe tbody tr th {\n",
       "        vertical-align: top;\n",
       "    }\n",
       "</style>\n",
       "<table border=\"1\" class=\"dataframe\">\n",
       "  <thead>\n",
       "    <tr style=\"text-align: right;\">\n",
       "      <th></th>\n",
       "      <th>song_id</th>\n",
       "      <th>song_length</th>\n",
       "      <th>genre_ids</th>\n",
       "      <th>artist_name</th>\n",
       "      <th>composer</th>\n",
       "      <th>lyricist</th>\n",
       "      <th>language</th>\n",
       "    </tr>\n",
       "  </thead>\n",
       "  <tbody>\n",
       "    <tr>\n",
       "      <th>0</th>\n",
       "      <td>CXoTN1eb7AI+DntdU1vbcwGRV4SCIDxZu+YD8JP8r4E=</td>\n",
       "      <td>247640</td>\n",
       "      <td>465</td>\n",
       "      <td>張信哲 (Jeff Chang)</td>\n",
       "      <td>董貞</td>\n",
       "      <td>何啟弘</td>\n",
       "      <td>3.0</td>\n",
       "    </tr>\n",
       "    <tr>\n",
       "      <th>1</th>\n",
       "      <td>o0kFgae9QtnYgRkVPqLJwa05zIhRlUjfF7O1tDw0ZDU=</td>\n",
       "      <td>197328</td>\n",
       "      <td>444</td>\n",
       "      <td>BLACKPINK</td>\n",
       "      <td>TEDDY|  FUTURE BOUNCE|  Bekuh BOOM</td>\n",
       "      <td>TEDDY</td>\n",
       "      <td>31.0</td>\n",
       "    </tr>\n",
       "    <tr>\n",
       "      <th>2</th>\n",
       "      <td>DwVvVurfpuz+XPuFvucclVQEyPqcpUkHR0ne1RQzPs0=</td>\n",
       "      <td>231781</td>\n",
       "      <td>465</td>\n",
       "      <td>SUPER JUNIOR</td>\n",
       "      <td>NaN</td>\n",
       "      <td>NaN</td>\n",
       "      <td>31.0</td>\n",
       "    </tr>\n",
       "    <tr>\n",
       "      <th>3</th>\n",
       "      <td>dKMBWoZyScdxSkihKG+Vf47nc18N9q4m58+b4e7dSSE=</td>\n",
       "      <td>273554</td>\n",
       "      <td>465</td>\n",
       "      <td>S.H.E</td>\n",
       "      <td>湯小康</td>\n",
       "      <td>徐世珍</td>\n",
       "      <td>3.0</td>\n",
       "    </tr>\n",
       "    <tr>\n",
       "      <th>4</th>\n",
       "      <td>W3bqWd3T+VeHFzHAUfARgW9AvVRaF4N5Yzm4Mr6Eo/o=</td>\n",
       "      <td>140329</td>\n",
       "      <td>726</td>\n",
       "      <td>貴族精選</td>\n",
       "      <td>Traditional</td>\n",
       "      <td>Traditional</td>\n",
       "      <td>52.0</td>\n",
       "    </tr>\n",
       "  </tbody>\n",
       "</table>\n",
       "</div>"
      ],
      "text/plain": [
       "                                        song_id  song_length genre_ids  \\\n",
       "0  CXoTN1eb7AI+DntdU1vbcwGRV4SCIDxZu+YD8JP8r4E=       247640       465   \n",
       "1  o0kFgae9QtnYgRkVPqLJwa05zIhRlUjfF7O1tDw0ZDU=       197328       444   \n",
       "2  DwVvVurfpuz+XPuFvucclVQEyPqcpUkHR0ne1RQzPs0=       231781       465   \n",
       "3  dKMBWoZyScdxSkihKG+Vf47nc18N9q4m58+b4e7dSSE=       273554       465   \n",
       "4  W3bqWd3T+VeHFzHAUfARgW9AvVRaF4N5Yzm4Mr6Eo/o=       140329       726   \n",
       "\n",
       "        artist_name                            composer     lyricist  language  \n",
       "0  張信哲 (Jeff Chang)                                  董貞          何啟弘       3.0  \n",
       "1         BLACKPINK  TEDDY|  FUTURE BOUNCE|  Bekuh BOOM        TEDDY      31.0  \n",
       "2      SUPER JUNIOR                                 NaN          NaN      31.0  \n",
       "3             S.H.E                                 湯小康          徐世珍       3.0  \n",
       "4              貴族精選                         Traditional  Traditional      52.0  "
      ]
     },
     "execution_count": 3,
     "metadata": {},
     "output_type": "execute_result"
    }
   ],
   "source": [
    "# Reading songs data\n",
    "songs = pd.read_csv('songs.csv')\n",
    "songs.head()"
   ]
  },
  {
   "cell_type": "code",
   "execution_count": 8,
   "metadata": {},
   "outputs": [
    {
     "data": {
      "text/html": [
       "<div>\n",
       "<style>\n",
       "    .dataframe thead tr:only-child th {\n",
       "        text-align: right;\n",
       "    }\n",
       "\n",
       "    .dataframe thead th {\n",
       "        text-align: left;\n",
       "    }\n",
       "\n",
       "    .dataframe tbody tr th {\n",
       "        vertical-align: top;\n",
       "    }\n",
       "</style>\n",
       "<table border=\"1\" class=\"dataframe\">\n",
       "  <thead>\n",
       "    <tr style=\"text-align: right;\">\n",
       "      <th></th>\n",
       "      <th>msno</th>\n",
       "      <th>city</th>\n",
       "      <th>bd</th>\n",
       "      <th>gender</th>\n",
       "      <th>registered_via</th>\n",
       "      <th>registration_init_time</th>\n",
       "      <th>expiration_date</th>\n",
       "    </tr>\n",
       "  </thead>\n",
       "  <tbody>\n",
       "    <tr>\n",
       "      <th>0</th>\n",
       "      <td>XQxgAYj3klVKjR3oxPPXYYFp4soD4TuBghkhMTD4oTw=</td>\n",
       "      <td>1</td>\n",
       "      <td>0</td>\n",
       "      <td>NaN</td>\n",
       "      <td>7</td>\n",
       "      <td>20110820</td>\n",
       "      <td>20170920</td>\n",
       "    </tr>\n",
       "    <tr>\n",
       "      <th>1</th>\n",
       "      <td>UizsfmJb9mV54qE9hCYyU07Va97c0lCRLEQX3ae+ztM=</td>\n",
       "      <td>1</td>\n",
       "      <td>0</td>\n",
       "      <td>NaN</td>\n",
       "      <td>7</td>\n",
       "      <td>20150628</td>\n",
       "      <td>20170622</td>\n",
       "    </tr>\n",
       "    <tr>\n",
       "      <th>2</th>\n",
       "      <td>D8nEhsIOBSoE6VthTaqDX8U6lqjJ7dLdr72mOyLya2A=</td>\n",
       "      <td>1</td>\n",
       "      <td>0</td>\n",
       "      <td>NaN</td>\n",
       "      <td>4</td>\n",
       "      <td>20160411</td>\n",
       "      <td>20170712</td>\n",
       "    </tr>\n",
       "    <tr>\n",
       "      <th>3</th>\n",
       "      <td>mCuD+tZ1hERA/o5GPqk38e041J8ZsBaLcu7nGoIIvhI=</td>\n",
       "      <td>1</td>\n",
       "      <td>0</td>\n",
       "      <td>NaN</td>\n",
       "      <td>9</td>\n",
       "      <td>20150906</td>\n",
       "      <td>20150907</td>\n",
       "    </tr>\n",
       "    <tr>\n",
       "      <th>4</th>\n",
       "      <td>q4HRBfVSssAFS9iRfxWrohxuk9kCYMKjHOEagUMV6rQ=</td>\n",
       "      <td>1</td>\n",
       "      <td>0</td>\n",
       "      <td>NaN</td>\n",
       "      <td>4</td>\n",
       "      <td>20170126</td>\n",
       "      <td>20170613</td>\n",
       "    </tr>\n",
       "  </tbody>\n",
       "</table>\n",
       "</div>"
      ],
      "text/plain": [
       "                                           msno  city  bd gender  \\\n",
       "0  XQxgAYj3klVKjR3oxPPXYYFp4soD4TuBghkhMTD4oTw=     1   0    NaN   \n",
       "1  UizsfmJb9mV54qE9hCYyU07Va97c0lCRLEQX3ae+ztM=     1   0    NaN   \n",
       "2  D8nEhsIOBSoE6VthTaqDX8U6lqjJ7dLdr72mOyLya2A=     1   0    NaN   \n",
       "3  mCuD+tZ1hERA/o5GPqk38e041J8ZsBaLcu7nGoIIvhI=     1   0    NaN   \n",
       "4  q4HRBfVSssAFS9iRfxWrohxuk9kCYMKjHOEagUMV6rQ=     1   0    NaN   \n",
       "\n",
       "   registered_via  registration_init_time  expiration_date  \n",
       "0               7                20110820         20170920  \n",
       "1               7                20150628         20170622  \n",
       "2               4                20160411         20170712  \n",
       "3               9                20150906         20150907  \n",
       "4               4                20170126         20170613  "
      ]
     },
     "execution_count": 8,
     "metadata": {},
     "output_type": "execute_result"
    }
   ],
   "source": [
    "# Reading members data\n",
    "members = pd.read_csv('members.csv')\n",
    "members.head()"
   ]
  },
  {
   "cell_type": "code",
   "execution_count": 9,
   "metadata": {
    "collapsed": true
   },
   "outputs": [],
   "source": [
    "# Merging songs data with training and testing data\n",
    "songs_cols = songs.columns\n",
    "train = train.merge(songs[songs_cols], on='song_id', how ='left')\n",
    "test = test.merge(songs[songs_cols], on='song_id', how='left')"
   ]
  },
  {
   "cell_type": "code",
   "execution_count": 10,
   "metadata": {
    "collapsed": true
   },
   "outputs": [],
   "source": [
    "# Merging members data with training and testing data\n",
    "members_cols = members.columns\n",
    "train = train.merge(members[members_cols], on='msno', how='left')\n",
    "test = test.merge(members[members_cols], on='msno', how = 'left')"
   ]
  },
  {
   "cell_type": "code",
   "execution_count": 25,
   "metadata": {},
   "outputs": [
    {
     "name": "stdout",
     "output_type": "stream",
     "text": [
      "After merging is completed:\n",
      "Training dataset consists of 7377418 rows and 18 columns.\n",
      "Test dataset consists of 2556790 rows and 18 columns.\n"
     ]
    }
   ],
   "source": [
    "print 'After merging is completed:'\n",
    "print 'Training dataset consists of %d rows and %d columns.'%(train.shape[0], train.shape[1])\n",
    "print 'Test dataset consists of %d rows and %d columns.'%(test.shape[0], test.shape[1])"
   ]
  },
  {
   "cell_type": "markdown",
   "metadata": {},
   "source": [
    "### Data Visualization"
   ]
  },
  {
   "cell_type": "code",
   "execution_count": 11,
   "metadata": {
    "collapsed": true
   },
   "outputs": [],
   "source": [
    "def count_null(data):\n",
    "    # The function returns a list containing the number of null values in each feature of the data.\n",
    "    null_data = data.isnull()\n",
    "    null_count= []\n",
    "    for i in null_data.columns:\n",
    "        null_count.append(sum(null_data[i]))\n",
    "    return null_count"
   ]
  },
  {
   "cell_type": "code",
   "execution_count": 12,
   "metadata": {
    "collapsed": true
   },
   "outputs": [],
   "source": [
    "# Calculating null values in each feature of the training data.\n",
    "null_values = count_null(train)"
   ]
  },
  {
   "cell_type": "code",
   "execution_count": 15,
   "metadata": {},
   "outputs": [
    {
     "data": {
      "image/png": "[encoded data removed]",
      "text/plain": [
       "<matplotlib.figure.Figure at 0x7f8dedc2a450>"
      ]
     },
     "metadata": {},
     "output_type": "display_data"
    }
   ],
   "source": [
    "# Plotting the number of null values in each feature of the training data.\n",
    "x = range(len(null_values))\n",
    "plt.figure(figsize = (8, 6))\n",
    "ax = sns.barplot(x, null_values)\n",
    "ax.set_xticklabels(train.columns, rotation=40, ha=\"right\")\n",
    "ax.set_ylabel('count')\n",
    "plt.tight_layout()\n",
    "plt.show()"
   ]
  },
  {
   "cell_type": "code",
   "execution_count": 16,
   "metadata": {},
   "outputs": [
    {
     "data": {
      "image/png": "[encoded data removed]",
      "text/plain": [
       "<matplotlib.figure.Figure at 0x7f8deda8e650>"
      ]
     },
     "metadata": {},
     "output_type": "display_data"
    }
   ],
   "source": [
    "# Plotting the occurence of each unique value in the feature 'bd'.\n",
    "plt.figure(figsize = (10,8))\n",
    "ax = sns.countplot(train['bd'])\n",
    "ax.set_xticklabels(ax.get_xticklabels(),ha=\"right\")\n",
    "plt.tight_layout()\n",
    "plt.show()"
   ]
  },
  {
   "cell_type": "code",
   "execution_count": 17,
   "metadata": {},
   "outputs": [
    {
     "data": {
      "image/png": "[encoded data removed]",
      "text/plain": [
       "<matplotlib.figure.Figure at 0x7f8ded9454d0>"
      ]
     },
     "metadata": {},
     "output_type": "display_data"
    }
   ],
   "source": [
    "# Plotting the occurence of different languages in the training data.\n",
    "plt.figure(figsize = (8, 6))\n",
    "ax = sns.countplot(x = \"language\", data = train)\n",
    "ax.set_xticklabels(ax.get_xticklabels(), rotation=40, ha=\"right\")\n",
    "plt.tight_layout()\n",
    "plt.show()"
   ]
  },
  {
   "cell_type": "code",
   "execution_count": 18,
   "metadata": {},
   "outputs": [
    {
     "data": {
      "image/png": "[encoded data removed]",
      "text/plain": [
       "<matplotlib.figure.Figure at 0x7f8ded522750>"
      ]
     },
     "metadata": {},
     "output_type": "display_data"
    }
   ],
   "source": [
    "# Plotting the occurence of different sources from which the songs are played.\n",
    "plt.figure(figsize = (8, 6))\n",
    "ax = sns.countplot(x = \"source_type\", data = train)\n",
    "ax.set_xticklabels(ax.get_xticklabels(), rotation=40, ha=\"right\")\n",
    "plt.tight_layout()\n",
    "plt.show()"
   ]
  },
  {
   "cell_type": "code",
   "execution_count": 19,
   "metadata": {},
   "outputs": [
    {
     "data": {
      "image/png": "[encoded data removed]",
      "text/plain": [
       "<matplotlib.figure.Figure at 0x7f8ded3f7710>"
      ]
     },
     "metadata": {},
     "output_type": "display_data"
    }
   ],
   "source": [
    "# Plotting the different tabs triggered according to their usage.\n",
    "plt.figure(figsize = (8, 6))\n",
    "ax = sns.countplot(x = \"source_system_tab\", data = train)\n",
    "ax.set_xticklabels(ax.get_xticklabels(), rotation=40, ha=\"right\")\n",
    "plt.tight_layout()\n",
    "plt.show()"
   ]
  },
  {
   "cell_type": "code",
   "execution_count": 20,
   "metadata": {},
   "outputs": [
    {
     "data": {
      "image/png": "[encoded data removed]",
      "text/plain": [
       "<matplotlib.figure.Figure at 0x7f8ded327fd0>"
      ]
     },
     "metadata": {},
     "output_type": "display_data"
    }
   ],
   "source": [
    "# Plotting the occurence of different cities, to which the users belong, in the training data.\n",
    "plt.figure(figsize = (8, 6))\n",
    "ax = sns.countplot(x = \"city\", data = train)\n",
    "ax.set_xticklabels(ax.get_xticklabels(), rotation=40, ha=\"right\")\n",
    "plt.tight_layout()\n",
    "plt.show()"
   ]
  },
  {
   "cell_type": "code",
   "execution_count": 21,
   "metadata": {},
   "outputs": [
    {
     "data": {
      "image/png": "[encoded data removed]",
      "text/plain": [
       "<matplotlib.figure.Figure at 0x7f8ded175750>"
      ]
     },
     "metadata": {},
     "output_type": "display_data"
    }
   ],
   "source": [
    "# Plotting the occurence of different screen layouts as seen by the user, while listening to a song.\n",
    "plt.figure(figsize = (8, 6))\n",
    "ax = sns.countplot(x = \"source_screen_name\", data = train)\n",
    "ax.set_xticklabels(ax.get_xticklabels(), rotation=40, ha=\"right\")\n",
    "plt.tight_layout()\n",
    "plt.show()"
   ]
  },
  {
   "cell_type": "markdown",
   "metadata": {},
   "source": [
    "### Data Preprocessing"
   ]
  },
  {
   "cell_type": "code",
   "execution_count": 26,
   "metadata": {
    "collapsed": true
   },
   "outputs": [],
   "source": [
    "# Extracting date, month and year from the user's membership registration date.\n",
    "train['registration_year'] = train['registration_init_time'].apply(lambda x: int(str(x)[0:4]))\n",
    "train['registration_month'] = train['registration_init_time'].apply(lambda x: int(str(x)[4:6]))\n",
    "train['registration_date'] = train['registration_init_time'].apply(lambda x: int(str(x)[6:8]))\n",
    "\n",
    "test['registration_year'] = test['registration_init_time'].apply(lambda x: int(str(x)[0:4]))\n",
    "test['registration_month'] = test['registration_init_time'].apply(lambda x: int(str(x)[4:6]))\n",
    "test['registration_date'] = test['registration_init_time'].apply(lambda x: int(str(x)[6:8]))"
   ]
  },
  {
   "cell_type": "code",
   "execution_count": 28,
   "metadata": {
    "collapsed": true
   },
   "outputs": [],
   "source": [
    "# Extracting date, month and year from the user's membership expiration date.\n",
    "train['expiration_year'] = train['expiration_date'].apply(lambda x: int(str(x)[0:4]))\n",
    "train['expiration_month'] = train['expiration_date'].apply(lambda x: int(str(x)[4:6]))\n",
    "train['expiration_date'] = train['expiration_date'].apply(lambda x: int(str(x)[6:8]))\n",
    "\n",
    "test['expiration_year'] = test['expiration_date'].apply(lambda x: int(str(x)[0:4]))\n",
    "test['expiration_month'] = test['expiration_date'].apply(lambda x: int(str(x)[4:6]))\n",
    "test['expiration_date'] = test['expiration_date'].apply(lambda x: int(str(x)[6:8]))"
   ]
  },
  {
   "cell_type": "code",
   "execution_count": 30,
   "metadata": {
    "collapsed": true
   },
   "outputs": [],
   "source": [
    "# Columns to be removed from the train and test data.\n",
    "cols_to_drop = ['composer', 'lyricist', 'gender' , 'bd' , 'registration_init_time']"
   ]
  },
  {
   "cell_type": "code",
   "execution_count": 31,
   "metadata": {
    "collapsed": true
   },
   "outputs": [],
   "source": [
    "# Removing columns from both train and test data.\n",
    "train.drop(cols_to_drop, axis= 1, inplace=True)\n",
    "test.drop(cols_to_drop, axis=1, inplace=True)"
   ]
  },
  {
   "cell_type": "code",
   "execution_count": 36,
   "metadata": {},
   "outputs": [
    {
     "name": "stdout",
     "output_type": "stream",
     "text": [
      "The final shape of the training and testing data:\n",
      "Training dataset consists of 7377418 rows and 18 columns.\n",
      "Test dataset consists of 2556790 rows and 18 columns.\n"
     ]
    }
   ],
   "source": [
    "# Shape of the train and test data after the columns are removed.\n",
    "print 'The final shape of the training and testing data:'\n",
    "print 'Training dataset consists of %d rows and %d columns.'%(train.shape[0], train.shape[1])\n",
    "print 'Test dataset consists of %d rows and %d columns.'%(test.shape[0], test.shape[1])"
   ]
  },
  {
   "cell_type": "code",
   "execution_count": 37,
   "metadata": {},
   "outputs": [
    {
     "data": {
      "text/html": [
       "<div>\n",
       "<style>\n",
       "    .dataframe thead tr:only-child th {\n",
       "        text-align: right;\n",
       "    }\n",
       "\n",
       "    .dataframe thead th {\n",
       "        text-align: left;\n",
       "    }\n",
       "\n",
       "    .dataframe tbody tr th {\n",
       "        vertical-align: top;\n",
       "    }\n",
       "</style>\n",
       "<table border=\"1\" class=\"dataframe\">\n",
       "  <thead>\n",
       "    <tr style=\"text-align: right;\">\n",
       "      <th></th>\n",
       "      <th>msno</th>\n",
       "      <th>song_id</th>\n",
       "      <th>source_system_tab</th>\n",
       "      <th>source_screen_name</th>\n",
       "      <th>source_type</th>\n",
       "      <th>target</th>\n",
       "      <th>song_length</th>\n",
       "      <th>genre_ids</th>\n",
       "      <th>artist_name</th>\n",
       "      <th>language</th>\n",
       "      <th>city</th>\n",
       "      <th>registered_via</th>\n",
       "      <th>expiration_date</th>\n",
       "      <th>registration_year</th>\n",
       "      <th>registration_month</th>\n",
       "      <th>registration_date</th>\n",
       "      <th>expiration_year</th>\n",
       "      <th>expiration_month</th>\n",
       "    </tr>\n",
       "  </thead>\n",
       "  <tbody>\n",
       "    <tr>\n",
       "      <th>0</th>\n",
       "      <td>FGtllVqz18RPiwJj/edr2gV78zirAiY/9SmYvia+kCg=</td>\n",
       "      <td>BBzumQNXUHKdEBOB7mAJuzok+IJA1c2Ryg/yzTF6tik=</td>\n",
       "      <td>explore</td>\n",
       "      <td>Explore</td>\n",
       "      <td>online-playlist</td>\n",
       "      <td>1</td>\n",
       "      <td>206471.0</td>\n",
       "      <td>359</td>\n",
       "      <td>Bastille</td>\n",
       "      <td>52.0</td>\n",
       "      <td>1</td>\n",
       "      <td>7</td>\n",
       "      <td>5</td>\n",
       "      <td>2012</td>\n",
       "      <td>1</td>\n",
       "      <td>2</td>\n",
       "      <td>2017</td>\n",
       "      <td>10</td>\n",
       "    </tr>\n",
       "    <tr>\n",
       "      <th>1</th>\n",
       "      <td>Xumu+NIjS6QYVxDS4/t3SawvJ7viT9hPKXmf0RtLNx8=</td>\n",
       "      <td>bhp/MpSNoqoxOIB+/l8WPqu6jldth4DIpCm3ayXnJqM=</td>\n",
       "      <td>my library</td>\n",
       "      <td>Local playlist more</td>\n",
       "      <td>local-playlist</td>\n",
       "      <td>1</td>\n",
       "      <td>284584.0</td>\n",
       "      <td>1259</td>\n",
       "      <td>Various Artists</td>\n",
       "      <td>52.0</td>\n",
       "      <td>13</td>\n",
       "      <td>9</td>\n",
       "      <td>11</td>\n",
       "      <td>2011</td>\n",
       "      <td>5</td>\n",
       "      <td>25</td>\n",
       "      <td>2017</td>\n",
       "      <td>9</td>\n",
       "    </tr>\n",
       "    <tr>\n",
       "      <th>2</th>\n",
       "      <td>Xumu+NIjS6QYVxDS4/t3SawvJ7viT9hPKXmf0RtLNx8=</td>\n",
       "      <td>JNWfrrC7zNN7BdMpsISKa4Mw+xVJYNnxXh3/Epw7QgY=</td>\n",
       "      <td>my library</td>\n",
       "      <td>Local playlist more</td>\n",
       "      <td>local-playlist</td>\n",
       "      <td>1</td>\n",
       "      <td>225396.0</td>\n",
       "      <td>1259</td>\n",
       "      <td>Nas</td>\n",
       "      <td>52.0</td>\n",
       "      <td>13</td>\n",
       "      <td>9</td>\n",
       "      <td>11</td>\n",
       "      <td>2011</td>\n",
       "      <td>5</td>\n",
       "      <td>25</td>\n",
       "      <td>2017</td>\n",
       "      <td>9</td>\n",
       "    </tr>\n",
       "    <tr>\n",
       "      <th>3</th>\n",
       "      <td>Xumu+NIjS6QYVxDS4/t3SawvJ7viT9hPKXmf0RtLNx8=</td>\n",
       "      <td>2A87tzfnJTSWqD7gIZHisolhe4DMdzkbd6LzO1KHjNs=</td>\n",
       "      <td>my library</td>\n",
       "      <td>Local playlist more</td>\n",
       "      <td>local-playlist</td>\n",
       "      <td>1</td>\n",
       "      <td>255512.0</td>\n",
       "      <td>1019</td>\n",
       "      <td>Soundway</td>\n",
       "      <td>-1.0</td>\n",
       "      <td>13</td>\n",
       "      <td>9</td>\n",
       "      <td>11</td>\n",
       "      <td>2011</td>\n",
       "      <td>5</td>\n",
       "      <td>25</td>\n",
       "      <td>2017</td>\n",
       "      <td>9</td>\n",
       "    </tr>\n",
       "    <tr>\n",
       "      <th>4</th>\n",
       "      <td>FGtllVqz18RPiwJj/edr2gV78zirAiY/9SmYvia+kCg=</td>\n",
       "      <td>3qm6XTZ6MOCU11x8FIVbAGH5l5uMkT3/ZalWG1oo2Gc=</td>\n",
       "      <td>explore</td>\n",
       "      <td>Explore</td>\n",
       "      <td>online-playlist</td>\n",
       "      <td>1</td>\n",
       "      <td>187802.0</td>\n",
       "      <td>1011</td>\n",
       "      <td>Brett Young</td>\n",
       "      <td>52.0</td>\n",
       "      <td>1</td>\n",
       "      <td>7</td>\n",
       "      <td>5</td>\n",
       "      <td>2012</td>\n",
       "      <td>1</td>\n",
       "      <td>2</td>\n",
       "      <td>2017</td>\n",
       "      <td>10</td>\n",
       "    </tr>\n",
       "  </tbody>\n",
       "</table>\n",
       "</div>"
      ],
      "text/plain": [
       "                                           msno  \\\n",
       "0  FGtllVqz18RPiwJj/edr2gV78zirAiY/9SmYvia+kCg=   \n",
       "1  Xumu+NIjS6QYVxDS4/t3SawvJ7viT9hPKXmf0RtLNx8=   \n",
       "2  Xumu+NIjS6QYVxDS4/t3SawvJ7viT9hPKXmf0RtLNx8=   \n",
       "3  Xumu+NIjS6QYVxDS4/t3SawvJ7viT9hPKXmf0RtLNx8=   \n",
       "4  FGtllVqz18RPiwJj/edr2gV78zirAiY/9SmYvia+kCg=   \n",
       "\n",
       "                                        song_id source_system_tab  \\\n",
       "0  BBzumQNXUHKdEBOB7mAJuzok+IJA1c2Ryg/yzTF6tik=           explore   \n",
       "1  bhp/MpSNoqoxOIB+/l8WPqu6jldth4DIpCm3ayXnJqM=        my library   \n",
       "2  JNWfrrC7zNN7BdMpsISKa4Mw+xVJYNnxXh3/Epw7QgY=        my library   \n",
       "3  2A87tzfnJTSWqD7gIZHisolhe4DMdzkbd6LzO1KHjNs=        my library   \n",
       "4  3qm6XTZ6MOCU11x8FIVbAGH5l5uMkT3/ZalWG1oo2Gc=           explore   \n",
       "\n",
       "    source_screen_name      source_type  target  song_length genre_ids  \\\n",
       "0              Explore  online-playlist       1     206471.0       359   \n",
       "1  Local playlist more   local-playlist       1     284584.0      1259   \n",
       "2  Local playlist more   local-playlist       1     225396.0      1259   \n",
       "3  Local playlist more   local-playlist       1     255512.0      1019   \n",
       "4              Explore  online-playlist       1     187802.0      1011   \n",
       "\n",
       "       artist_name  language  city  registered_via  expiration_date  \\\n",
       "0         Bastille      52.0     1               7                5   \n",
       "1  Various Artists      52.0    13               9               11   \n",
       "2              Nas      52.0    13               9               11   \n",
       "3         Soundway      -1.0    13               9               11   \n",
       "4      Brett Young      52.0     1               7                5   \n",
       "\n",
       "   registration_year  registration_month  registration_date  expiration_year  \\\n",
       "0               2012                   1                  2             2017   \n",
       "1               2011                   5                 25             2017   \n",
       "2               2011                   5                 25             2017   \n",
       "3               2011                   5                 25             2017   \n",
       "4               2012                   1                  2             2017   \n",
       "\n",
       "   expiration_month  \n",
       "0                10  \n",
       "1                 9  \n",
       "2                 9  \n",
       "3                 9  \n",
       "4                10  "
      ]
     },
     "execution_count": 37,
     "metadata": {},
     "output_type": "execute_result"
    }
   ],
   "source": [
    "train.head()"
   ]
  },
  {
   "cell_type": "code",
   "execution_count": 38,
   "metadata": {
    "collapsed": true
   },
   "outputs": [],
   "source": [
    "# Filling the remaining null values in the data with a constant value.\n",
    "train.fillna(-999, inplace=True)\n",
    "test.fillna(-999, inplace= True)"
   ]
  },
  {
   "cell_type": "code",
   "execution_count": 39,
   "metadata": {
    "collapsed": true
   },
   "outputs": [],
   "source": [
    "# Selecting columns that are to be Label Encoded.\n",
    "cols = list(train.columns)\n",
    "cols.remove('target')"
   ]
  },
  {
   "cell_type": "code",
   "execution_count": 41,
   "metadata": {},
   "outputs": [
    {
     "data": {
      "application/vnd.jupyter.widget-view+json": {
       "model_id": "7044d277595946dd80493a42f22a8e47",
       "version_major": 2,
       "version_minor": 0
      },
      "text/plain": [
       "A Jupyter Widget"
      ]
     },
     "metadata": {},
     "output_type": "display_data"
    },
    {
     "name": "stdout",
     "output_type": "stream",
     "text": [
      "\n"
     ]
    }
   ],
   "source": [
    "# Performing Label Encoding on both the train and test data.\n",
    "for col in tqdm_notebook(cols):\n",
    "    if train[col].dtype == 'object':\n",
    "        train[col] = train[col].apply(str)\n",
    "        test[col] = test[col].apply(str)\n",
    "\n",
    "        le = LabelEncoder()\n",
    "        train_vals = list(train[col].unique())\n",
    "        test_vals = list(test[col].unique())\n",
    "        le.fit(train_vals + test_vals)\n",
    "        train[col] = le.transform(train[col])\n",
    "        test[col] = le.transform(test[col])"
   ]
  },
  {
   "cell_type": "code",
   "execution_count": 42,
   "metadata": {},
   "outputs": [
    {
     "name": "stdout",
     "output_type": "stream",
     "text": [
      "Training data after Label Encoding:\n"
     ]
    },
    {
     "data": {
      "text/html": [
       "<div>\n",
       "<style>\n",
       "    .dataframe thead tr:only-child th {\n",
       "        text-align: right;\n",
       "    }\n",
       "\n",
       "    .dataframe thead th {\n",
       "        text-align: left;\n",
       "    }\n",
       "\n",
       "    .dataframe tbody tr th {\n",
       "        vertical-align: top;\n",
       "    }\n",
       "</style>\n",
       "<table border=\"1\" class=\"dataframe\">\n",
       "  <thead>\n",
       "    <tr style=\"text-align: right;\">\n",
       "      <th></th>\n",
       "      <th>msno</th>\n",
       "      <th>song_id</th>\n",
       "      <th>source_system_tab</th>\n",
       "      <th>source_screen_name</th>\n",
       "      <th>source_type</th>\n",
       "      <th>target</th>\n",
       "      <th>song_length</th>\n",
       "      <th>genre_ids</th>\n",
       "      <th>artist_name</th>\n",
       "      <th>language</th>\n",
       "      <th>city</th>\n",
       "      <th>registered_via</th>\n",
       "      <th>expiration_date</th>\n",
       "      <th>registration_year</th>\n",
       "      <th>registration_month</th>\n",
       "      <th>registration_date</th>\n",
       "      <th>expiration_year</th>\n",
       "      <th>expiration_month</th>\n",
       "    </tr>\n",
       "  </thead>\n",
       "  <tbody>\n",
       "    <tr>\n",
       "      <th>0</th>\n",
       "      <td>9176</td>\n",
       "      <td>86884</td>\n",
       "      <td>2</td>\n",
       "      <td>8</td>\n",
       "      <td>7</td>\n",
       "      <td>1</td>\n",
       "      <td>206471.0</td>\n",
       "      <td>308</td>\n",
       "      <td>3785</td>\n",
       "      <td>52.0</td>\n",
       "      <td>1</td>\n",
       "      <td>7</td>\n",
       "      <td>5</td>\n",
       "      <td>2012</td>\n",
       "      <td>1</td>\n",
       "      <td>2</td>\n",
       "      <td>2017</td>\n",
       "      <td>10</td>\n",
       "    </tr>\n",
       "    <tr>\n",
       "      <th>1</th>\n",
       "      <td>19273</td>\n",
       "      <td>260594</td>\n",
       "      <td>4</td>\n",
       "      <td>9</td>\n",
       "      <td>5</td>\n",
       "      <td>1</td>\n",
       "      <td>284584.0</td>\n",
       "      <td>98</td>\n",
       "      <td>36868</td>\n",
       "      <td>52.0</td>\n",
       "      <td>13</td>\n",
       "      <td>9</td>\n",
       "      <td>11</td>\n",
       "      <td>2011</td>\n",
       "      <td>5</td>\n",
       "      <td>25</td>\n",
       "      <td>2017</td>\n",
       "      <td>9</td>\n",
       "    </tr>\n",
       "    <tr>\n",
       "      <th>2</th>\n",
       "      <td>19273</td>\n",
       "      <td>140755</td>\n",
       "      <td>4</td>\n",
       "      <td>9</td>\n",
       "      <td>5</td>\n",
       "      <td>1</td>\n",
       "      <td>225396.0</td>\n",
       "      <td>98</td>\n",
       "      <td>24602</td>\n",
       "      <td>52.0</td>\n",
       "      <td>13</td>\n",
       "      <td>9</td>\n",
       "      <td>11</td>\n",
       "      <td>2011</td>\n",
       "      <td>5</td>\n",
       "      <td>25</td>\n",
       "      <td>2017</td>\n",
       "      <td>9</td>\n",
       "    </tr>\n",
       "    <tr>\n",
       "      <th>3</th>\n",
       "      <td>19273</td>\n",
       "      <td>27577</td>\n",
       "      <td>4</td>\n",
       "      <td>9</td>\n",
       "      <td>5</td>\n",
       "      <td>1</td>\n",
       "      <td>255512.0</td>\n",
       "      <td>7</td>\n",
       "      <td>31652</td>\n",
       "      <td>-1.0</td>\n",
       "      <td>13</td>\n",
       "      <td>9</td>\n",
       "      <td>11</td>\n",
       "      <td>2011</td>\n",
       "      <td>5</td>\n",
       "      <td>25</td>\n",
       "      <td>2017</td>\n",
       "      <td>9</td>\n",
       "    </tr>\n",
       "    <tr>\n",
       "      <th>4</th>\n",
       "      <td>9176</td>\n",
       "      <td>38706</td>\n",
       "      <td>2</td>\n",
       "      <td>8</td>\n",
       "      <td>7</td>\n",
       "      <td>1</td>\n",
       "      <td>187802.0</td>\n",
       "      <td>3</td>\n",
       "      <td>5191</td>\n",
       "      <td>52.0</td>\n",
       "      <td>1</td>\n",
       "      <td>7</td>\n",
       "      <td>5</td>\n",
       "      <td>2012</td>\n",
       "      <td>1</td>\n",
       "      <td>2</td>\n",
       "      <td>2017</td>\n",
       "      <td>10</td>\n",
       "    </tr>\n",
       "  </tbody>\n",
       "</table>\n",
       "</div>"
      ],
      "text/plain": [
       "    msno  song_id  source_system_tab  source_screen_name  source_type  target  \\\n",
       "0   9176    86884                  2                   8            7       1   \n",
       "1  19273   260594                  4                   9            5       1   \n",
       "2  19273   140755                  4                   9            5       1   \n",
       "3  19273    27577                  4                   9            5       1   \n",
       "4   9176    38706                  2                   8            7       1   \n",
       "\n",
       "   song_length  genre_ids  artist_name  language  city  registered_via  \\\n",
       "0     206471.0        308         3785      52.0     1               7   \n",
       "1     284584.0         98        36868      52.0    13               9   \n",
       "2     225396.0         98        24602      52.0    13               9   \n",
       "3     255512.0          7        31652      -1.0    13               9   \n",
       "4     187802.0          3         5191      52.0     1               7   \n",
       "\n",
       "   expiration_date  registration_year  registration_month  registration_date  \\\n",
       "0                5               2012                   1                  2   \n",
       "1               11               2011                   5                 25   \n",
       "2               11               2011                   5                 25   \n",
       "3               11               2011                   5                 25   \n",
       "4                5               2012                   1                  2   \n",
       "\n",
       "   expiration_year  expiration_month  \n",
       "0             2017                10  \n",
       "1             2017                 9  \n",
       "2             2017                 9  \n",
       "3             2017                 9  \n",
       "4             2017                10  "
      ]
     },
     "execution_count": 42,
     "metadata": {},
     "output_type": "execute_result"
    }
   ],
   "source": [
    "print 'Training data after Label Encoding:'\n",
    "train.head()"
   ]
  },
  {
   "cell_type": "code",
   "execution_count": 44,
   "metadata": {},
   "outputs": [],
   "source": [
    "# Seperating labels from the training data and converting the training dataframe into an array.\n",
    "X = np.array(train.drop(['target'], axis = 1))\n",
    "y = train['target'].values"
   ]
  },
  {
   "cell_type": "code",
   "execution_count": 45,
   "metadata": {
    "collapsed": true
   },
   "outputs": [],
   "source": [
    "# Extracting row ids which are used during submission of predicted labels on Kaggle. \n",
    "X_test = np.array(test.drop(['id'], axis=1))\n",
    "ids = test['id'].values"
   ]
  },
  {
   "cell_type": "markdown",
   "metadata": {},
   "source": [
    "#### Creating Validation Set"
   ]
  },
  {
   "cell_type": "code",
   "execution_count": 4,
   "metadata": {
    "collapsed": true
   },
   "outputs": [],
   "source": [
    "# Reading the file containing extra information about the songs.\n",
    "songs_extra = pd.read_csv('song_extra_info.csv')"
   ]
  },
  {
   "cell_type": "code",
   "execution_count": 5,
   "metadata": {},
   "outputs": [
    {
     "data": {
      "text/html": [
       "<div>\n",
       "<style>\n",
       "    .dataframe thead tr:only-child th {\n",
       "        text-align: right;\n",
       "    }\n",
       "\n",
       "    .dataframe thead th {\n",
       "        text-align: left;\n",
       "    }\n",
       "\n",
       "    .dataframe tbody tr th {\n",
       "        vertical-align: top;\n",
       "    }\n",
       "</style>\n",
       "<table border=\"1\" class=\"dataframe\">\n",
       "  <thead>\n",
       "    <tr style=\"text-align: right;\">\n",
       "      <th></th>\n",
       "      <th>song_id</th>\n",
       "      <th>name</th>\n",
       "      <th>isrc</th>\n",
       "    </tr>\n",
       "  </thead>\n",
       "  <tbody>\n",
       "    <tr>\n",
       "      <th>0</th>\n",
       "      <td>LP7pLJoJFBvyuUwvu+oLzjT+bI+UeBPURCecJsX1jjs=</td>\n",
       "      <td>我們</td>\n",
       "      <td>TWUM71200043</td>\n",
       "    </tr>\n",
       "    <tr>\n",
       "      <th>1</th>\n",
       "      <td>ClazTFnk6r0Bnuie44bocdNMM3rdlrq0bCGAsGUWcHE=</td>\n",
       "      <td>Let Me Love You</td>\n",
       "      <td>QMZSY1600015</td>\n",
       "    </tr>\n",
       "    <tr>\n",
       "      <th>2</th>\n",
       "      <td>u2ja/bZE3zhCGxvbbOB3zOoUjx27u40cf5g09UXMoKQ=</td>\n",
       "      <td>原諒我</td>\n",
       "      <td>TWA530887303</td>\n",
       "    </tr>\n",
       "    <tr>\n",
       "      <th>3</th>\n",
       "      <td>92Fqsy0+p6+RHe2EoLKjHahORHR1Kq1TBJoClW9v+Ts=</td>\n",
       "      <td>Classic</td>\n",
       "      <td>USSM11301446</td>\n",
       "    </tr>\n",
       "    <tr>\n",
       "      <th>4</th>\n",
       "      <td>0QFmz/+rJy1Q56C1DuYqT9hKKqi5TUqx0sN0IwvoHrw=</td>\n",
       "      <td>愛投羅網</td>\n",
       "      <td>TWA471306001</td>\n",
       "    </tr>\n",
       "  </tbody>\n",
       "</table>\n",
       "</div>"
      ],
      "text/plain": [
       "                                        song_id             name          isrc\n",
       "0  LP7pLJoJFBvyuUwvu+oLzjT+bI+UeBPURCecJsX1jjs=               我們  TWUM71200043\n",
       "1  ClazTFnk6r0Bnuie44bocdNMM3rdlrq0bCGAsGUWcHE=  Let Me Love You  QMZSY1600015\n",
       "2  u2ja/bZE3zhCGxvbbOB3zOoUjx27u40cf5g09UXMoKQ=              原諒我  TWA530887303\n",
       "3  92Fqsy0+p6+RHe2EoLKjHahORHR1Kq1TBJoClW9v+Ts=          Classic  USSM11301446\n",
       "4  0QFmz/+rJy1Q56C1DuYqT9hKKqi5TUqx0sN0IwvoHrw=             愛投羅網  TWA471306001"
      ]
     },
     "execution_count": 5,
     "metadata": {},
     "output_type": "execute_result"
    }
   ],
   "source": [
    "songs_extra.head()"
   ]
  },
  {
   "cell_type": "markdown",
   "metadata": {},
   "source": [
    "*The isrc refers to International Standard Recording Code, theoretically can be used as an identity of a song. Further information related on ISRC can obtained through the following link: https://en.wikipedia.org/wiki/International_Standard_Recording_Code*"
   ]
  },
  {
   "cell_type": "code",
   "execution_count": 6,
   "metadata": {
    "collapsed": true
   },
   "outputs": [],
   "source": [
    "def isrc_to_year(isrc):\n",
    "    # The function extracts and returns the year, in which the song is released, from the isr code. \n",
    "    if type(isrc) == str:\n",
    "        if int(isrc[5:7]) > 17:\n",
    "            return 1900 + int(isrc[5:7])\n",
    "        else:\n",
    "            return 2000 + int(isrc[5:7])\n",
    "    else:\n",
    "        return np.nan"
   ]
  },
  {
   "cell_type": "code",
   "execution_count": 7,
   "metadata": {
    "collapsed": true
   },
   "outputs": [],
   "source": [
    "# Extracting the song release year from isr code.\n",
    "songs_extra['song_year'] = songs_extra['isrc'].apply(isrc_to_year)\n",
    "songs_extra.drop(['isrc', 'name'], axis = 1, inplace = True)"
   ]
  },
  {
   "cell_type": "code",
   "execution_count": 8,
   "metadata": {},
   "outputs": [],
   "source": [
    "# Merging the Song year with the training and testing data.\n",
    "train = train.merge(songs_extra, on='song_id', how='left')\n",
    "test = test.merge(songs_extra, on='song_id', how='left')"
   ]
  },
  {
   "cell_type": "code",
   "execution_count": 9,
   "metadata": {
    "collapsed": true
   },
   "outputs": [],
   "source": [
    "# Calculating the rolling mean of the songs released in the year 2017.\n",
    "train['2017_songs_frac'] = (train['song_year'] == 2017).rolling(window = 100000, center = True).mean()\n",
    "test['2017_songs_frac'] = (test['song_year'] == 2017).rolling(window = 100000, center = True).mean()"
   ]
  },
  {
   "cell_type": "code",
   "execution_count": 10,
   "metadata": {},
   "outputs": [
    {
     "data": {
      "text/plain": [
       "<matplotlib.legend.Legend at 0x7f9723c9ce50>"
      ]
     },
     "execution_count": 10,
     "metadata": {},
     "output_type": "execute_result"
    },
    {
     "data": {
      "image/png": "[encoded data removed]",
      "text/plain": [
       "<matplotlib.figure.Figure at 0x7f96e1e501d0>"
      ]
     },
     "metadata": {},
     "output_type": "display_data"
    }
   ],
   "source": [
    "# Plotting a graph.\n",
    "plt.figure(figsize=(10,10))\n",
    "plt.plot(train.index.values, train['2017_songs_frac'],'-', label = 'train_data')\n",
    "plt.plot(test.index.values, test['2017_songs_frac'], '-', label = 'test_data')\n",
    "plt.ylabel('Rolling Mean of songs released in year 2017')\n",
    "plt.xlabel('Data indices')\n",
    "plt.legend()"
   ]
  },
  {
   "cell_type": "markdown",
   "metadata": {},
   "source": [
    "From the above graph we can conclude that the data in the training and testing datasets is chronologically ordered. Hence shuffling the data will destroy the order in the data. Therefore, instead of using a shuffle split/ train_test_split to create the validation dataset, we simply select the last 25% of the training data as our validation set."
   ]
  },
  {
   "cell_type": "code",
   "execution_count": 46,
   "metadata": {
    "collapsed": true
   },
   "outputs": [],
   "source": [
    "# Creating a training dataset for the model to be implemented.\n",
    "X_train = X[:int(len(X)-len(X)*0.25)]\n",
    "y_train = y[:int(len(X)-len(X)*0.25)]"
   ]
  },
  {
   "cell_type": "code",
   "execution_count": 47,
   "metadata": {
    "collapsed": true
   },
   "outputs": [],
   "source": [
    "# Creating a validation dataset for the model to be implemented.\n",
    "X_valid = X[int(len(X)-len(X)*0.25):]\n",
    "y_valid = y[int(len(X)-len(X)*0.25):]"
   ]
  },
  {
   "cell_type": "markdown",
   "metadata": {},
   "source": [
    "### Algorithms and Techniques"
   ]
  },
  {
   "cell_type": "markdown",
   "metadata": {},
   "source": [
    "#### Comparing Different Boosted Tree Algorithms"
   ]
  },
  {
   "cell_type": "markdown",
   "metadata": {},
   "source": [
    "##### XGBoost Model"
   ]
  },
  {
   "cell_type": "code",
   "execution_count": 54,
   "metadata": {
    "collapsed": true
   },
   "outputs": [],
   "source": [
    "# Converting data to DMatrix\n",
    "d_train = xgb.DMatrix(X_train, label=y_train)\n",
    "d_valid = xgb.DMatrix(X_valid, label = y_valid)\n",
    "d_test = xgb.DMatrix(X_test)"
   ]
  },
  {
   "cell_type": "code",
   "execution_count": 55,
   "metadata": {
    "collapsed": true
   },
   "outputs": [],
   "source": [
    "# Creating a watchlist.\n",
    "watchlist = [(d_train, 'train'), (d_valid, 'valid')]"
   ]
  },
  {
   "cell_type": "code",
   "execution_count": 56,
   "metadata": {
    "collapsed": true
   },
   "outputs": [],
   "source": [
    "# Setting parameters of the XG Boost model.\n",
    "params = {}\n",
    "params['objective'] = 'binary:logistic'\n",
    "params['eta'] = 0.3\n",
    "params['max_depth'] = 8\n",
    "params['silent'] = 1\n",
    "params['eval_metric'] = 'auc'\n",
    "params['max_bin'] = 128\n",
    "params['max_leaf_nodes'] = 2**8"
   ]
  },
  {
   "cell_type": "code",
   "execution_count": 57,
   "metadata": {},
   "outputs": [
    {
     "name": "stdout",
     "output_type": "stream",
     "text": [
      "[0]\ttrain-auc:0.67823\tvalid-auc:0.609336\n",
      "Multiple eval metrics have been passed: 'valid-auc' will be used for early stopping.\n",
      "\n",
      "Will train until valid-auc hasn't improved in 10 rounds.\n",
      "[10]\ttrain-auc:0.698797\tvalid-auc:0.620988\n",
      "[20]\ttrain-auc:0.713128\tvalid-auc:0.628706\n",
      "[30]\ttrain-auc:0.723965\tvalid-auc:0.633134\n",
      "[40]\ttrain-auc:0.732508\tvalid-auc:0.636472\n",
      "[50]\ttrain-auc:0.738957\tvalid-auc:0.638525\n",
      "[60]\ttrain-auc:0.747482\tvalid-auc:0.641775\n",
      "[70]\ttrain-auc:0.751867\tvalid-auc:0.643226\n",
      "[80]\ttrain-auc:0.757413\tvalid-auc:0.645676\n",
      "[90]\ttrain-auc:0.761572\tvalid-auc:0.64696\n",
      "[100]\ttrain-auc:0.76519\tvalid-auc:0.648006\n",
      "[110]\ttrain-auc:0.769225\tvalid-auc:0.649175\n",
      "[120]\ttrain-auc:0.772075\tvalid-auc:0.650102\n",
      "[130]\ttrain-auc:0.774896\tvalid-auc:0.651201\n",
      "[140]\ttrain-auc:0.777705\tvalid-auc:0.651936\n",
      "[150]\ttrain-auc:0.77989\tvalid-auc:0.652705\n",
      "[160]\ttrain-auc:0.782396\tvalid-auc:0.653553\n",
      "[170]\ttrain-auc:0.784656\tvalid-auc:0.6545\n",
      "[180]\ttrain-auc:0.786458\tvalid-auc:0.655144\n",
      "[190]\ttrain-auc:0.788527\tvalid-auc:0.655863\n",
      "[200]\ttrain-auc:0.790542\tvalid-auc:0.656514\n",
      "[210]\ttrain-auc:0.792131\tvalid-auc:0.656743\n",
      "[220]\ttrain-auc:0.794047\tvalid-auc:0.657243\n",
      "[230]\ttrain-auc:0.795727\tvalid-auc:0.657609\n",
      "[240]\ttrain-auc:0.797118\tvalid-auc:0.657854\n",
      "[250]\ttrain-auc:0.798818\tvalid-auc:0.658352\n",
      "[260]\ttrain-auc:0.800397\tvalid-auc:0.658787\n",
      "[270]\ttrain-auc:0.801978\tvalid-auc:0.659419\n",
      "[280]\ttrain-auc:0.803453\tvalid-auc:0.659898\n",
      "[290]\ttrain-auc:0.804474\tvalid-auc:0.659973\n"
     ]
    }
   ],
   "source": [
    "# Training the model for 300 iterations.\n",
    "t_start = time.time()\n",
    "model = xgb.train(params, d_train, 300, watchlist, early_stopping_rounds=10, verbose_eval=10)\n",
    "t_stop = time.time()"
   ]
  },
  {
   "cell_type": "code",
   "execution_count": 63,
   "metadata": {},
   "outputs": [
    {
     "name": "stdout",
     "output_type": "stream",
     "text": [
      "Model Execution Time: 2289.0 seconds\n"
     ]
    }
   ],
   "source": [
    "model_exec_time = (t_stop - t_start)\n",
    "print 'Model Execution Time: %.1f seconds'%round(model_exec_time)"
   ]
  },
  {
   "cell_type": "code",
   "execution_count": 64,
   "metadata": {
    "collapsed": true
   },
   "outputs": [],
   "source": [
    "# Predicting the model lables.\n",
    "p_test = model.predict(d_test)\n",
    "# Preparing data for submission.\n",
    "subm = pd.DataFrame()\n",
    "subm['id'] = ids\n",
    "subm['target'] = p_test"
   ]
  },
  {
   "cell_type": "markdown",
   "metadata": {},
   "source": [
    "***Results: *** *The XGBoost model produces an AUROC score of 0.65239 on the testing data.*"
   ]
  },
  {
   "cell_type": "markdown",
   "metadata": {},
   "source": [
    "##### Light GBM (Light Gradient Boost Model)"
   ]
  },
  {
   "cell_type": "code",
   "execution_count": 67,
   "metadata": {
    "collapsed": true
   },
   "outputs": [],
   "source": [
    "# Converting data to Light GBM dataset.\n",
    "d_train = lgb.Dataset(X_train, label=y_train)\n",
    "d_valid = lgb.Dataset(X_valid, label = y_valid)"
   ]
  },
  {
   "cell_type": "code",
   "execution_count": 68,
   "metadata": {
    "collapsed": true
   },
   "outputs": [],
   "source": [
    "# Creating a watch list.\n",
    "watchlist = [d_train, d_valid]"
   ]
  },
  {
   "cell_type": "code",
   "execution_count": 69,
   "metadata": {
    "collapsed": true
   },
   "outputs": [],
   "source": [
    "# Initialising parameters of the Light GBM model.\n",
    "params = {\n",
    "    'learning_rate': 0.3,\n",
    "    'application': 'binary',\n",
    "    'max_depth':8,\n",
    "    'num_leaves':2**8,\n",
    "    'verbosity':0,\n",
    "    'metric':'auc',\n",
    "    'max_bin':128\n",
    "}"
   ]
  },
  {
   "cell_type": "code",
   "execution_count": 70,
   "metadata": {
    "scrolled": false
   },
   "outputs": [
    {
     "name": "stdout",
     "output_type": "stream",
     "text": [
      "Training until validation scores don't improve for 10 rounds.\n",
      "[10]\ttraining's auc: 0.697514\tvalid_1's auc: 0.619499\n",
      "[20]\ttraining's auc: 0.713517\tvalid_1's auc: 0.627809\n",
      "[30]\ttraining's auc: 0.722554\tvalid_1's auc: 0.631779\n",
      "[40]\ttraining's auc: 0.730942\tvalid_1's auc: 0.634746\n",
      "[50]\ttraining's auc: 0.737969\tvalid_1's auc: 0.637797\n",
      "[60]\ttraining's auc: 0.746273\tvalid_1's auc: 0.641158\n",
      "[70]\ttraining's auc: 0.751959\tvalid_1's auc: 0.643516\n",
      "[80]\ttraining's auc: 0.756677\tvalid_1's auc: 0.645014\n",
      "[90]\ttraining's auc: 0.759751\tvalid_1's auc: 0.646419\n",
      "[100]\ttraining's auc: 0.76503\tvalid_1's auc: 0.648517\n",
      "[110]\ttraining's auc: 0.768428\tvalid_1's auc: 0.649917\n",
      "[120]\ttraining's auc: 0.77264\tvalid_1's auc: 0.651527\n",
      "[130]\ttraining's auc: 0.775321\tvalid_1's auc: 0.652248\n",
      "[140]\ttraining's auc: 0.779138\tvalid_1's auc: 0.65355\n",
      "[150]\ttraining's auc: 0.781365\tvalid_1's auc: 0.654099\n",
      "[160]\ttraining's auc: 0.783198\tvalid_1's auc: 0.654129\n",
      "[170]\ttraining's auc: 0.784843\tvalid_1's auc: 0.654511\n",
      "[180]\ttraining's auc: 0.786942\tvalid_1's auc: 0.655414\n",
      "[190]\ttraining's auc: 0.789028\tvalid_1's auc: 0.656349\n",
      "[200]\ttraining's auc: 0.791593\tvalid_1's auc: 0.657204\n",
      "[210]\ttraining's auc: 0.793447\tvalid_1's auc: 0.657615\n",
      "[220]\ttraining's auc: 0.795114\tvalid_1's auc: 0.657931\n",
      "[230]\ttraining's auc: 0.796309\tvalid_1's auc: 0.658319\n",
      "[240]\ttraining's auc: 0.798173\tvalid_1's auc: 0.658919\n",
      "[250]\ttraining's auc: 0.79982\tvalid_1's auc: 0.659252\n",
      "[260]\ttraining's auc: 0.801685\tvalid_1's auc: 0.65971\n",
      "[270]\ttraining's auc: 0.803085\tvalid_1's auc: 0.660244\n",
      "[280]\ttraining's auc: 0.804264\tvalid_1's auc: 0.660444\n",
      "[290]\ttraining's auc: 0.80567\tvalid_1's auc: 0.660823\n",
      "[300]\ttraining's auc: 0.806967\tvalid_1's auc: 0.66087\n"
     ]
    }
   ],
   "source": [
    "# Running the model for 300 iterations.\n",
    "t_start = time.time()\n",
    "model = lgb.train(params, train_set=d_train, num_boost_round=300, valid_sets=watchlist,early_stopping_rounds=10, verbose_eval=10)\n",
    "t_stop = time.time()"
   ]
  },
  {
   "cell_type": "code",
   "execution_count": 71,
   "metadata": {},
   "outputs": [
    {
     "name": "stdout",
     "output_type": "stream",
     "text": [
      "Model Execution Time: 550.0 seconds\n"
     ]
    }
   ],
   "source": [
    "model_exec_time = (t_stop - t_start)\n",
    "print 'Model Execution Time: %.1f seconds'%round(model_exec_time)"
   ]
  },
  {
   "cell_type": "code",
   "execution_count": 72,
   "metadata": {
    "collapsed": true
   },
   "outputs": [],
   "source": [
    "# Predicting the model labels.\n",
    "p_test = model.predict(X_test)"
   ]
  },
  {
   "cell_type": "code",
   "execution_count": 73,
   "metadata": {
    "collapsed": true
   },
   "outputs": [],
   "source": [
    "# Preparing data for submission.\n",
    "subm = pd.DataFrame()\n",
    "subm['id'] = ids\n",
    "subm['target'] = p_test"
   ]
  },
  {
   "cell_type": "markdown",
   "metadata": {},
   "source": [
    "*** Result: ***  *The Light GBM model produces an AUROC score of 0.65243 on the testing data.*"
   ]
  },
  {
   "cell_type": "markdown",
   "metadata": {},
   "source": [
    "### Refinement"
   ]
  },
  {
   "cell_type": "markdown",
   "metadata": {},
   "source": [
    "*From the results it is clear that Light GBM model performs better than XGBoost model. Hence, we choose Light GBM as our final model. We futher tune the parameters of the Light GBM to produce better results.* "
   ]
  },
  {
   "cell_type": "code",
   "execution_count": 75,
   "metadata": {
    "collapsed": true
   },
   "outputs": [],
   "source": [
    "# Tuning the parameters of the Light GBM model till it produces better result.\n",
    "params = {\n",
    "    'learning_rate': 0.1,\n",
    "    'application': 'binary',\n",
    "    'max_depth':16,\n",
    "    'num_leaves':2**10,\n",
    "    'verbosity':0,\n",
    "    'metric':'auc',\n",
    "    'max_bin':256\n",
    "}"
   ]
  },
  {
   "cell_type": "code",
   "execution_count": 76,
   "metadata": {
    "scrolled": false
   },
   "outputs": [
    {
     "name": "stdout",
     "output_type": "stream",
     "text": [
      "Training until validation scores don't improve for 10 rounds.\n",
      "[10]\ttraining's auc: 0.729519\tvalid_1's auc: 0.63149\n",
      "[20]\ttraining's auc: 0.745314\tvalid_1's auc: 0.637928\n",
      "[30]\ttraining's auc: 0.756602\tvalid_1's auc: 0.643104\n",
      "[40]\ttraining's auc: 0.766977\tvalid_1's auc: 0.648082\n",
      "[50]\ttraining's auc: 0.774903\tvalid_1's auc: 0.652439\n",
      "[60]\ttraining's auc: 0.781444\tvalid_1's auc: 0.655267\n",
      "[70]\ttraining's auc: 0.787568\tvalid_1's auc: 0.657861\n",
      "[80]\ttraining's auc: 0.793305\tvalid_1's auc: 0.660054\n",
      "[90]\ttraining's auc: 0.797584\tvalid_1's auc: 0.661687\n",
      "[100]\ttraining's auc: 0.801182\tvalid_1's auc: 0.662516\n",
      "[110]\ttraining's auc: 0.804758\tvalid_1's auc: 0.663935\n",
      "[120]\ttraining's auc: 0.807342\tvalid_1's auc: 0.664558\n",
      "[130]\ttraining's auc: 0.809878\tvalid_1's auc: 0.665035\n",
      "[140]\ttraining's auc: 0.812203\tvalid_1's auc: 0.665517\n",
      "[150]\ttraining's auc: 0.814695\tvalid_1's auc: 0.666066\n",
      "[160]\ttraining's auc: 0.816984\tvalid_1's auc: 0.666524\n",
      "[170]\ttraining's auc: 0.818932\tvalid_1's auc: 0.666807\n",
      "[180]\ttraining's auc: 0.820971\tvalid_1's auc: 0.667235\n",
      "[190]\ttraining's auc: 0.822653\tvalid_1's auc: 0.6674\n",
      "[200]\ttraining's auc: 0.824393\tvalid_1's auc: 0.667858\n",
      "[210]\ttraining's auc: 0.826524\tvalid_1's auc: 0.668512\n",
      "[220]\ttraining's auc: 0.828314\tvalid_1's auc: 0.668806\n",
      "[230]\ttraining's auc: 0.829848\tvalid_1's auc: 0.669026\n",
      "[240]\ttraining's auc: 0.831531\tvalid_1's auc: 0.66947\n",
      "[250]\ttraining's auc: 0.833007\tvalid_1's auc: 0.669642\n",
      "[260]\ttraining's auc: 0.834457\tvalid_1's auc: 0.669902\n",
      "[270]\ttraining's auc: 0.835723\tvalid_1's auc: 0.670028\n",
      "[280]\ttraining's auc: 0.837174\tvalid_1's auc: 0.67029\n",
      "[290]\ttraining's auc: 0.838714\tvalid_1's auc: 0.670673\n",
      "[300]\ttraining's auc: 0.839946\tvalid_1's auc: 0.670798\n",
      "[310]\ttraining's auc: 0.841154\tvalid_1's auc: 0.670936\n",
      "[320]\ttraining's auc: 0.84234\tvalid_1's auc: 0.671084\n",
      "[330]\ttraining's auc: 0.843491\tvalid_1's auc: 0.671235\n",
      "[340]\ttraining's auc: 0.844728\tvalid_1's auc: 0.67146\n",
      "[350]\ttraining's auc: 0.845627\tvalid_1's auc: 0.671406\n",
      "Early stopping, best iteration is:\n",
      "[341]\ttraining's auc: 0.844833\tvalid_1's auc: 0.671473\n"
     ]
    }
   ],
   "source": [
    "# Running the model for 500 iterations.\n",
    "t_start = time.time()\n",
    "model = lgb.train(params, train_set=d_train, num_boost_round=500, valid_sets=watchlist,early_stopping_rounds=10, verbose_eval=10)\n",
    "t_stop = time.time()"
   ]
  },
  {
   "cell_type": "code",
   "execution_count": 77,
   "metadata": {},
   "outputs": [
    {
     "name": "stdout",
     "output_type": "stream",
     "text": [
      "Model Execution Time: 726.0 seconds\n"
     ]
    }
   ],
   "source": [
    "model_exec_time = (t_stop - t_start)\n",
    "print 'Model Execution Time: %.1f seconds'%round(model_exec_time)"
   ]
  },
  {
   "cell_type": "code",
   "execution_count": 78,
   "metadata": {
    "collapsed": true
   },
   "outputs": [],
   "source": [
    "# Predicting the model labels.\n",
    "p_test = model.predict(X_test)"
   ]
  },
  {
   "cell_type": "code",
   "execution_count": 79,
   "metadata": {
    "collapsed": true
   },
   "outputs": [],
   "source": [
    "# Preparing data for submission.\n",
    "subm = pd.DataFrame()\n",
    "subm['id'] = ids\n",
    "subm['target'] = p_test"
   ]
  },
  {
   "cell_type": "markdown",
   "metadata": {},
   "source": [
    "*** Result: *** *The Light GBM model with these set of parameteres produces an AUROC score of 0.66027 on the testing data.*"
   ]
  },
  {
   "cell_type": "markdown",
   "metadata": {},
   "source": [
    "### Conclusion"
   ]
  },
  {
   "cell_type": "markdown",
   "metadata": {},
   "source": [
    "After tuning the Light GBM  model parameters multiple times, the best Kaggle Leaderboard score (Auroc score) recieved on the testing data (for this notebook) is 0.66027. Although by decreasing the learning rate and increasing the depth to which the tree can grow (the details of which I cannot reveal, since the competition is still ongoing), I was able to increase my Auroc score to 0.67516, which is currently ranked among the top 17%."
   ]
  },
  {
   "cell_type": "code",
   "execution_count": null,
   "metadata": {
    "collapsed": true
   },
   "outputs": [],
   "source": []
  }
 ],
 "metadata": {
  "kernelspec": {
   "display_name": "Python 2",
   "language": "python",
   "name": "python2"
  },
  "language_info": {
   "codemirror_mode": {
    "name": "ipython",
    "version": 2
   },
   "file_extension": ".py",
   "mimetype": "text/x-python",
   "name": "python",
   "nbconvert_exporter": "python",
   "pygments_lexer": "ipython2",
   "version": "2.7.13"
  },
  "widgets": {
   "state": {
    "9e6dc4ec29d44ab8a891fb30afe2a2da": {
     "views": [
      {
       "cell_index": 16
      }
     ]
    }
   },
   "version": "1.2.0"
  }
 },
 "nbformat": 4,
 "nbformat_minor": 2
}
