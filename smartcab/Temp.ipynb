{
 "cells": [
  {
   "cell_type": "code",
   "execution_count": 1,
   "metadata": {
    "collapsed": true
   },
   "outputs": [],
   "source": [
    "import os\n",
    "import time\n",
    "import random\n",
    "import importlib\n",
    "import csv"
   ]
  },
  {
   "cell_type": "code",
   "execution_count": 2,
   "metadata": {
    "collapsed": false
   },
   "outputs": [],
   "source": [
    "class TrafficLight(object):\n",
    "    valid_states = [True, False]\n",
    "    def __init__(self, state=None, period=None):\n",
    "        self.state = state if state is not None else random.choice(self.valid_states)\n",
    "        self.period = period if period is not None else random.choice([2,3,4,5])\n",
    "        self.last_updated = 0\n",
    "    def reset(self):\n",
    "        self.last_updated = 0\n",
    "    def update(self, t):\n",
    "        if (t - self.last_updated >= self.period):\n",
    "            self.state = not self.state\n",
    "            self.last_updated = t\n",
    "            print(self.state, t, self.last_updated)\n"
   ]
  },
  {
   "cell_type": "code",
   "execution_count": 55,
   "metadata": {
    "collapsed": false
   },
   "outputs": [],
   "source": [
    "import math\n",
    "from collections import OrderedDict\n",
    "class Environment(object):\n",
    "    valid_actions = [None, 'forward', 'left', 'right']\n",
    "    valid_inputs = {'light': TrafficLight.valid_states,\n",
    "                   'oncoming': valid_actions, 'left': valid_actions,\n",
    "                    'right': valid_actions}\n",
    "    valid_headings = [(1, 0), (0, -1), (-1, 0), (0, 1)] #E,N,W,S\n",
    "    hard_time_limit = -100 \n",
    "    \n",
    "    def __init__(self, verbose = False, num_dummies = 100, grid_size = (8,6)):\n",
    "        self.num_dummies = num_dummies\n",
    "        \n",
    "        self.verbose = verbose\n",
    "        \n",
    "        self.done = False\n",
    "        self.t = 0\n",
    "        self.agent_states = OrderedDict()\n",
    "        self.step_data = {}\n",
    "        self.success = None\n",
    "        \n",
    "        #Road network\n",
    "        self.grid_size = grid_size # (columns, rows)\n",
    "        self.bounds = (1, 2, self.grid_size[0], self.grid_size[1] + 1)\n",
    "        self.block_size = 100\n",
    "        self.hang = 0.6\n",
    "        self.intersections = OrderedDict()\n",
    "        self.roads = []\n",
    "        \n",
    "        for x in xrange(self.bounds[0], self.bounds[2] + 1):\n",
    "            for y in xrange(self.bounds[1], self.bounds[3] + 1):\n",
    "                self.intersections[(x, y)] = TrafficLight()\n",
    "        \n",
    "\n",
    "        for a in self.intersections:\n",
    "            for b in self.intersections:\n",
    "                if a == b:\n",
    "                    continue\n",
    "                if(abs(a[0] - b[0]) + abs(a[1] - b[1])) == 1:\n",
    "                    self.roads.append((a,b))\n",
    "        \n",
    "        # Add environment boundaries\n",
    "        for x in xrange(self.bounds[0], self.bounds[2] + 1):\n",
    "            self.roads.append(((x, self.bounds[1] - self.hang), (x, self.bounds[1])))\n",
    "            self.roads.append(((x, self.bounds[3] + self.hang), (x, self.bounds[3])))\n",
    "            \n",
    "        for y in xrange(self.bounds[1], self.bounds[3] + 1):\n",
    "            self.roads.append(((self.bounds[0] - self.hang, y), (self.bounds[0], y)))\n",
    "            self.roads.append(((self.bounds[2] + self.hang, y), (self.bounds[2], y)))\n",
    "        \n",
    "        # create dummy agents\n",
    "        for i in xrange(self.num_dummies):\n",
    "            self.create_agent(DummyAgent)\n",
    "    \n",
    "        self.primary_agent  = None\n",
    "        self.enforce_deadline = False\n",
    "        \n",
    "        # Trial Data\n",
    "        \n",
    "        self.trial_data = {\n",
    "            'testing': False,\n",
    "            'initial_distance': 0,\n",
    "            'initial_deadline': 0,\n",
    "            'net_reward': 0.0,\n",
    "            'final_deadline': None,\n",
    "            'actions': {0:0,1:0,2:0,3:0,4:0},\n",
    "            'success': 0\n",
    "        }\n",
    "    \n",
    "    def create_agent(self, agent_class, *args, **kwargs):\n",
    "        agent = agent_class(self, *args, **kwargs)\n",
    "        self.agent_states[agent] = {'location':random.choice(self.intersections.keys()), 'heading': (0, 1)}\n",
    "        return agent"
   ]
  },
  {
   "cell_type": "code",
   "execution_count": 56,
   "metadata": {
    "collapsed": false
   },
   "outputs": [
    {
     "name": "stdout",
     "output_type": "stream",
     "text": [
      "(1, 2, 8, 7) (8, 6)\n"
     ]
    }
   ],
   "source": [
    "e = Environment()\n",
    "print e.bounds, e.grid_size"
   ]
  },
  {
   "cell_type": "code",
   "execution_count": 44,
   "metadata": {
    "collapsed": false
   },
   "outputs": [
    {
     "name": "stdout",
     "output_type": "stream",
     "text": [
      "((1, 1.4), (1, 2))\n",
      "((2, 1.4), (2, 2))\n",
      "((3, 1.4), (3, 2))\n",
      "((4, 1.4), (4, 2))\n",
      "((5, 1.4), (5, 2))\n",
      "((6, 1.4), (6, 2))\n",
      "((7, 1.4), (7, 2))\n",
      "((8, 1.4), (8, 2))\n"
     ]
    }
   ],
   "source": []
  },
  {
   "cell_type": "code",
   "execution_count": null,
   "metadata": {
    "collapsed": false
   },
   "outputs": [],
   "source": []
  },
  {
   "cell_type": "code",
   "execution_count": 2,
   "metadata": {
    "collapsed": false
   },
   "outputs": [],
   "source": [
    "import matplotlib.pyplot as plt\n",
    "%matplotlib inline"
   ]
  },
  {
   "cell_type": "code",
   "execution_count": 13,
   "metadata": {
    "collapsed": false
   },
   "outputs": [
    {
     "data": {
      "text/plain": [
       "[<matplotlib.lines.Line2D at 0x91a1ba8>,\n",
       " <matplotlib.lines.Line2D at 0x91a1cc0>]"
      ]
     },
     "execution_count": 13,
     "metadata": {},
     "output_type": "execute_result"
    },
    {
     "data": {
      "image/png": "[encoded data removed]",
      "text/plain": [
       "<matplotlib.figure.Figure at 0x9137e80>"
      ]
     },
     "metadata": {},
     "output_type": "display_data"
    }
   ],
   "source": [
    "roads = []\n",
    "for x in range(1,9):\n",
    "    roads.append((x, 1.4))\n",
    "    roads.append((x, 2))\n",
    "plt.plot(roads, '.')"
   ]
  },
  {
   "cell_type": "code",
   "execution_count": 1,
   "metadata": {
    "collapsed": true
   },
   "outputs": [],
   "source": [
    "import random"
   ]
  },
  {
   "cell_type": "code",
   "execution_count": 12,
   "metadata": {
    "collapsed": false
   },
   "outputs": [
    {
     "name": "stdout",
     "output_type": "stream",
     "text": [
      "Hello\n"
     ]
    }
   ],
   "source": [
    "if random.random()>0.5:\n",
    "    print 'Hello'\n",
    "else:\n",
    "    print 'Bye'"
   ]
  },
  {
   "cell_type": "code",
   "execution_count": 13,
   "metadata": {
    "collapsed": true
   },
   "outputs": [],
   "source": [
    "x = {'a': 1, 'b': 2}"
   ]
  },
  {
   "cell_type": "code",
   "execution_count": 24,
   "metadata": {
    "collapsed": false
   },
   "outputs": [
    {
     "data": {
      "text/plain": [
       "'b'"
      ]
     },
     "execution_count": 24,
     "metadata": {},
     "output_type": "execute_result"
    }
   ],
   "source": [
    "x.keys()[1]"
   ]
  },
  {
   "cell_type": "code",
   "execution_count": 22,
   "metadata": {
    "collapsed": false
   },
   "outputs": [
    {
     "data": {
      "text/plain": [
       "1"
      ]
     },
     "execution_count": 22,
     "metadata": {},
     "output_type": "execute_result"
    }
   ],
   "source": [
    "(x.values()).index(2)"
   ]
  },
  {
   "cell_type": "code",
   "execution_count": 34,
   "metadata": {
    "collapsed": false
   },
   "outputs": [],
   "source": [
    "import pandas as pd\n",
    "data = pd.read_csv('logs/sim_no-learning.csv')"
   ]
  },
  {
   "cell_type": "code",
   "execution_count": 35,
   "metadata": {
    "collapsed": false
   },
   "outputs": [
    {
     "data": {
      "text/html": [
       "<div>\n",
       "<table border=\"1\" class=\"dataframe\">\n",
       "  <thead>\n",
       "    <tr style=\"text-align: right;\">\n",
       "      <th></th>\n",
       "      <th>trial</th>\n",
       "      <th>testing</th>\n",
       "      <th>parameters</th>\n",
       "      <th>initial_deadline</th>\n",
       "      <th>final_deadline</th>\n",
       "      <th>net_reward</th>\n",
       "      <th>actions</th>\n",
       "      <th>success</th>\n",
       "    </tr>\n",
       "  </thead>\n",
       "  <tbody>\n",
       "    <tr>\n",
       "      <th>0</th>\n",
       "      <td>1</td>\n",
       "      <td>False</td>\n",
       "      <td>{'a': 0.5, 'e': 1.0}</td>\n",
       "      <td>25</td>\n",
       "      <td>0</td>\n",
       "      <td>-71.092227</td>\n",
       "      <td>{0: 19, 1: 1, 2: 4, 3: 0, 4: 1}</td>\n",
       "      <td>0</td>\n",
       "    </tr>\n",
       "    <tr>\n",
       "      <th>1</th>\n",
       "      <td>2</td>\n",
       "      <td>False</td>\n",
       "      <td>{'a': 0.5, 'e': 1.0}</td>\n",
       "      <td>25</td>\n",
       "      <td>0</td>\n",
       "      <td>-129.673578</td>\n",
       "      <td>{0: 14, 1: 2, 2: 5, 3: 4, 4: 0}</td>\n",
       "      <td>0</td>\n",
       "    </tr>\n",
       "    <tr>\n",
       "      <th>2</th>\n",
       "      <td>3</td>\n",
       "      <td>False</td>\n",
       "      <td>{'a': 0.5, 'e': 1.0}</td>\n",
       "      <td>25</td>\n",
       "      <td>0</td>\n",
       "      <td>-120.892956</td>\n",
       "      <td>{0: 16, 1: 3, 2: 4, 3: 0, 4: 2}</td>\n",
       "      <td>0</td>\n",
       "    </tr>\n",
       "    <tr>\n",
       "      <th>3</th>\n",
       "      <td>4</td>\n",
       "      <td>False</td>\n",
       "      <td>{'a': 0.5, 'e': 1.0}</td>\n",
       "      <td>20</td>\n",
       "      <td>0</td>\n",
       "      <td>-130.887570</td>\n",
       "      <td>{0: 11, 1: 4, 2: 2, 3: 1, 4: 2}</td>\n",
       "      <td>0</td>\n",
       "    </tr>\n",
       "    <tr>\n",
       "      <th>4</th>\n",
       "      <td>5</td>\n",
       "      <td>False</td>\n",
       "      <td>{'a': 0.5, 'e': 1.0}</td>\n",
       "      <td>20</td>\n",
       "      <td>0</td>\n",
       "      <td>-177.282167</td>\n",
       "      <td>{0: 9, 1: 1, 2: 6, 3: 2, 4: 2}</td>\n",
       "      <td>0</td>\n",
       "    </tr>\n",
       "    <tr>\n",
       "      <th>5</th>\n",
       "      <td>6</td>\n",
       "      <td>False</td>\n",
       "      <td>{'a': 0.5, 'e': 1.0}</td>\n",
       "      <td>25</td>\n",
       "      <td>0</td>\n",
       "      <td>-162.253440</td>\n",
       "      <td>{0: 10, 1: 4, 2: 9, 3: 1, 4: 1}</td>\n",
       "      <td>0</td>\n",
       "    </tr>\n",
       "    <tr>\n",
       "      <th>6</th>\n",
       "      <td>7</td>\n",
       "      <td>False</td>\n",
       "      <td>{'a': 0.5, 'e': 1.0}</td>\n",
       "      <td>20</td>\n",
       "      <td>11</td>\n",
       "      <td>-57.250811</td>\n",
       "      <td>{0: 5, 1: 0, 2: 3, 3: 0, 4: 1}</td>\n",
       "      <td>1</td>\n",
       "    </tr>\n",
       "    <tr>\n",
       "      <th>7</th>\n",
       "      <td>8</td>\n",
       "      <td>False</td>\n",
       "      <td>{'a': 0.5, 'e': 1.0}</td>\n",
       "      <td>20</td>\n",
       "      <td>0</td>\n",
       "      <td>-50.707191</td>\n",
       "      <td>{0: 13, 1: 1, 2: 6, 3: 0, 4: 0}</td>\n",
       "      <td>0</td>\n",
       "    </tr>\n",
       "    <tr>\n",
       "      <th>8</th>\n",
       "      <td>9</td>\n",
       "      <td>False</td>\n",
       "      <td>{'a': 0.5, 'e': 1.0}</td>\n",
       "      <td>20</td>\n",
       "      <td>0</td>\n",
       "      <td>-111.177206</td>\n",
       "      <td>{0: 13, 1: 4, 2: 0, 3: 1, 4: 2}</td>\n",
       "      <td>0</td>\n",
       "    </tr>\n",
       "    <tr>\n",
       "      <th>9</th>\n",
       "      <td>10</td>\n",
       "      <td>False</td>\n",
       "      <td>{'a': 0.5, 'e': 1.0}</td>\n",
       "      <td>25</td>\n",
       "      <td>0</td>\n",
       "      <td>-94.322635</td>\n",
       "      <td>{0: 10, 1: 9, 2: 6, 3: 0, 4: 0}</td>\n",
       "      <td>0</td>\n",
       "    </tr>\n",
       "  </tbody>\n",
       "</table>\n",
       "</div>"
      ],
      "text/plain": [
       "   trial testing            parameters  initial_deadline  final_deadline  \\\n",
       "0      1   False  {'a': 0.5, 'e': 1.0}                25               0   \n",
       "1      2   False  {'a': 0.5, 'e': 1.0}                25               0   \n",
       "2      3   False  {'a': 0.5, 'e': 1.0}                25               0   \n",
       "3      4   False  {'a': 0.5, 'e': 1.0}                20               0   \n",
       "4      5   False  {'a': 0.5, 'e': 1.0}                20               0   \n",
       "5      6   False  {'a': 0.5, 'e': 1.0}                25               0   \n",
       "6      7   False  {'a': 0.5, 'e': 1.0}                20              11   \n",
       "7      8   False  {'a': 0.5, 'e': 1.0}                20               0   \n",
       "8      9   False  {'a': 0.5, 'e': 1.0}                20               0   \n",
       "9     10   False  {'a': 0.5, 'e': 1.0}                25               0   \n",
       "\n",
       "   net_reward                          actions  success  \n",
       "0  -71.092227  {0: 19, 1: 1, 2: 4, 3: 0, 4: 1}        0  \n",
       "1 -129.673578  {0: 14, 1: 2, 2: 5, 3: 4, 4: 0}        0  \n",
       "2 -120.892956  {0: 16, 1: 3, 2: 4, 3: 0, 4: 2}        0  \n",
       "3 -130.887570  {0: 11, 1: 4, 2: 2, 3: 1, 4: 2}        0  \n",
       "4 -177.282167   {0: 9, 1: 1, 2: 6, 3: 2, 4: 2}        0  \n",
       "5 -162.253440  {0: 10, 1: 4, 2: 9, 3: 1, 4: 1}        0  \n",
       "6  -57.250811   {0: 5, 1: 0, 2: 3, 3: 0, 4: 1}        1  \n",
       "7  -50.707191  {0: 13, 1: 1, 2: 6, 3: 0, 4: 0}        0  \n",
       "8 -111.177206  {0: 13, 1: 4, 2: 0, 3: 1, 4: 2}        0  \n",
       "9  -94.322635  {0: 10, 1: 9, 2: 6, 3: 0, 4: 0}        0  "
      ]
     },
     "execution_count": 35,
     "metadata": {},
     "output_type": "execute_result"
    }
   ],
   "source": [
    "data.head(n= 10)"
   ]
  },
  {
   "cell_type": "code",
   "execution_count": 36,
   "metadata": {
    "collapsed": true
   },
   "outputs": [],
   "source": [
    "import matplotlib.pyplot as plt\n",
    "% matplotlib inline"
   ]
  },
  {
   "cell_type": "code",
   "execution_count": 41,
   "metadata": {
    "collapsed": false
   },
   "outputs": [],
   "source": [
    "data['average_reward'] = (data['net_reward'] / (data['initial_deadline'] - data['final_deadline'])).mean()\n",
    "import ast"
   ]
  },
  {
   "cell_type": "code",
   "execution_count": 42,
   "metadata": {
    "collapsed": false
   },
   "outputs": [],
   "source": [
    "data['minor'] = (data['actions'].apply(lambda x: ast.literal_eval(x)[1]) * 1.0 / (data['initial_deadline'] - data['final_deadline'])).mean()"
   ]
  },
  {
   "cell_type": "code",
   "execution_count": 48,
   "metadata": {
    "collapsed": false
   },
   "outputs": [
    {
     "data": {
      "text/html": [
       "<div>\n",
       "<table border=\"1\" class=\"dataframe\">\n",
       "  <thead>\n",
       "    <tr style=\"text-align: right;\">\n",
       "      <th></th>\n",
       "      <th>trial</th>\n",
       "      <th>testing</th>\n",
       "      <th>parameters</th>\n",
       "      <th>initial_deadline</th>\n",
       "      <th>final_deadline</th>\n",
       "      <th>net_reward</th>\n",
       "      <th>actions</th>\n",
       "      <th>success</th>\n",
       "      <th>average_reward</th>\n",
       "      <th>minor</th>\n",
       "    </tr>\n",
       "  </thead>\n",
       "  <tbody>\n",
       "    <tr>\n",
       "      <th>0</th>\n",
       "      <td>1</td>\n",
       "      <td>False</td>\n",
       "      <td>{'a': 0.5, 'e': 1.0}</td>\n",
       "      <td>25</td>\n",
       "      <td>0</td>\n",
       "      <td>-71.092227</td>\n",
       "      <td>{0: 19, 1: 1, 2: 4, 3: 0, 4: 1}</td>\n",
       "      <td>0</td>\n",
       "      <td>-5.115133</td>\n",
       "      <td>0.126222</td>\n",
       "    </tr>\n",
       "    <tr>\n",
       "      <th>1</th>\n",
       "      <td>2</td>\n",
       "      <td>False</td>\n",
       "      <td>{'a': 0.5, 'e': 1.0}</td>\n",
       "      <td>25</td>\n",
       "      <td>0</td>\n",
       "      <td>-129.673578</td>\n",
       "      <td>{0: 14, 1: 2, 2: 5, 3: 4, 4: 0}</td>\n",
       "      <td>0</td>\n",
       "      <td>-5.115133</td>\n",
       "      <td>0.126222</td>\n",
       "    </tr>\n",
       "    <tr>\n",
       "      <th>2</th>\n",
       "      <td>3</td>\n",
       "      <td>False</td>\n",
       "      <td>{'a': 0.5, 'e': 1.0}</td>\n",
       "      <td>25</td>\n",
       "      <td>0</td>\n",
       "      <td>-120.892956</td>\n",
       "      <td>{0: 16, 1: 3, 2: 4, 3: 0, 4: 2}</td>\n",
       "      <td>0</td>\n",
       "      <td>-5.115133</td>\n",
       "      <td>0.126222</td>\n",
       "    </tr>\n",
       "    <tr>\n",
       "      <th>3</th>\n",
       "      <td>4</td>\n",
       "      <td>False</td>\n",
       "      <td>{'a': 0.5, 'e': 1.0}</td>\n",
       "      <td>20</td>\n",
       "      <td>0</td>\n",
       "      <td>-130.887570</td>\n",
       "      <td>{0: 11, 1: 4, 2: 2, 3: 1, 4: 2}</td>\n",
       "      <td>0</td>\n",
       "      <td>-5.115133</td>\n",
       "      <td>0.126222</td>\n",
       "    </tr>\n",
       "    <tr>\n",
       "      <th>4</th>\n",
       "      <td>5</td>\n",
       "      <td>False</td>\n",
       "      <td>{'a': 0.5, 'e': 1.0}</td>\n",
       "      <td>20</td>\n",
       "      <td>0</td>\n",
       "      <td>-177.282167</td>\n",
       "      <td>{0: 9, 1: 1, 2: 6, 3: 2, 4: 2}</td>\n",
       "      <td>0</td>\n",
       "      <td>-5.115133</td>\n",
       "      <td>0.126222</td>\n",
       "    </tr>\n",
       "    <tr>\n",
       "      <th>5</th>\n",
       "      <td>6</td>\n",
       "      <td>False</td>\n",
       "      <td>{'a': 0.5, 'e': 1.0}</td>\n",
       "      <td>25</td>\n",
       "      <td>0</td>\n",
       "      <td>-162.253440</td>\n",
       "      <td>{0: 10, 1: 4, 2: 9, 3: 1, 4: 1}</td>\n",
       "      <td>0</td>\n",
       "      <td>-5.115133</td>\n",
       "      <td>0.126222</td>\n",
       "    </tr>\n",
       "    <tr>\n",
       "      <th>6</th>\n",
       "      <td>7</td>\n",
       "      <td>False</td>\n",
       "      <td>{'a': 0.5, 'e': 1.0}</td>\n",
       "      <td>20</td>\n",
       "      <td>11</td>\n",
       "      <td>-57.250811</td>\n",
       "      <td>{0: 5, 1: 0, 2: 3, 3: 0, 4: 1}</td>\n",
       "      <td>1</td>\n",
       "      <td>-5.115133</td>\n",
       "      <td>0.126222</td>\n",
       "    </tr>\n",
       "    <tr>\n",
       "      <th>7</th>\n",
       "      <td>8</td>\n",
       "      <td>False</td>\n",
       "      <td>{'a': 0.5, 'e': 1.0}</td>\n",
       "      <td>20</td>\n",
       "      <td>0</td>\n",
       "      <td>-50.707191</td>\n",
       "      <td>{0: 13, 1: 1, 2: 6, 3: 0, 4: 0}</td>\n",
       "      <td>0</td>\n",
       "      <td>-5.115133</td>\n",
       "      <td>0.126222</td>\n",
       "    </tr>\n",
       "    <tr>\n",
       "      <th>8</th>\n",
       "      <td>9</td>\n",
       "      <td>False</td>\n",
       "      <td>{'a': 0.5, 'e': 1.0}</td>\n",
       "      <td>20</td>\n",
       "      <td>0</td>\n",
       "      <td>-111.177206</td>\n",
       "      <td>{0: 13, 1: 4, 2: 0, 3: 1, 4: 2}</td>\n",
       "      <td>0</td>\n",
       "      <td>-5.115133</td>\n",
       "      <td>0.126222</td>\n",
       "    </tr>\n",
       "    <tr>\n",
       "      <th>9</th>\n",
       "      <td>10</td>\n",
       "      <td>False</td>\n",
       "      <td>{'a': 0.5, 'e': 1.0}</td>\n",
       "      <td>25</td>\n",
       "      <td>0</td>\n",
       "      <td>-94.322635</td>\n",
       "      <td>{0: 10, 1: 9, 2: 6, 3: 0, 4: 0}</td>\n",
       "      <td>0</td>\n",
       "      <td>-5.115133</td>\n",
       "      <td>0.126222</td>\n",
       "    </tr>\n",
       "    <tr>\n",
       "      <th>10</th>\n",
       "      <td>11</td>\n",
       "      <td>False</td>\n",
       "      <td>{'a': 0.5, 'e': 1.0}</td>\n",
       "      <td>20</td>\n",
       "      <td>0</td>\n",
       "      <td>-54.869804</td>\n",
       "      <td>{0: 12, 1: 3, 2: 5, 3: 0, 4: 0}</td>\n",
       "      <td>0</td>\n",
       "      <td>-5.115133</td>\n",
       "      <td>0.126222</td>\n",
       "    </tr>\n",
       "    <tr>\n",
       "      <th>11</th>\n",
       "      <td>12</td>\n",
       "      <td>False</td>\n",
       "      <td>{'a': 0.5, 'e': 1.0}</td>\n",
       "      <td>25</td>\n",
       "      <td>0</td>\n",
       "      <td>-79.859351</td>\n",
       "      <td>{0: 17, 1: 3, 2: 4, 3: 0, 4: 1}</td>\n",
       "      <td>0</td>\n",
       "      <td>-5.115133</td>\n",
       "      <td>0.126222</td>\n",
       "    </tr>\n",
       "    <tr>\n",
       "      <th>12</th>\n",
       "      <td>13</td>\n",
       "      <td>False</td>\n",
       "      <td>{'a': 0.5, 'e': 1.0}</td>\n",
       "      <td>20</td>\n",
       "      <td>0</td>\n",
       "      <td>-104.227378</td>\n",
       "      <td>{0: 9, 1: 3, 2: 6, 3: 2, 4: 0}</td>\n",
       "      <td>0</td>\n",
       "      <td>-5.115133</td>\n",
       "      <td>0.126222</td>\n",
       "    </tr>\n",
       "    <tr>\n",
       "      <th>13</th>\n",
       "      <td>14</td>\n",
       "      <td>False</td>\n",
       "      <td>{'a': 0.5, 'e': 1.0}</td>\n",
       "      <td>20</td>\n",
       "      <td>0</td>\n",
       "      <td>-85.465783</td>\n",
       "      <td>{0: 12, 1: 2, 2: 5, 3: 0, 4: 1}</td>\n",
       "      <td>0</td>\n",
       "      <td>-5.115133</td>\n",
       "      <td>0.126222</td>\n",
       "    </tr>\n",
       "    <tr>\n",
       "      <th>14</th>\n",
       "      <td>15</td>\n",
       "      <td>False</td>\n",
       "      <td>{'a': 0.5, 'e': 1.0}</td>\n",
       "      <td>20</td>\n",
       "      <td>0</td>\n",
       "      <td>-102.722756</td>\n",
       "      <td>{0: 14, 1: 0, 2: 4, 3: 0, 4: 2}</td>\n",
       "      <td>0</td>\n",
       "      <td>-5.115133</td>\n",
       "      <td>0.126222</td>\n",
       "    </tr>\n",
       "    <tr>\n",
       "      <th>15</th>\n",
       "      <td>16</td>\n",
       "      <td>False</td>\n",
       "      <td>{'a': 0.5, 'e': 1.0}</td>\n",
       "      <td>20</td>\n",
       "      <td>0</td>\n",
       "      <td>-93.708230</td>\n",
       "      <td>{0: 10, 1: 3, 2: 5, 3: 2, 4: 0}</td>\n",
       "      <td>0</td>\n",
       "      <td>-5.115133</td>\n",
       "      <td>0.126222</td>\n",
       "    </tr>\n",
       "    <tr>\n",
       "      <th>16</th>\n",
       "      <td>17</td>\n",
       "      <td>False</td>\n",
       "      <td>{'a': 0.5, 'e': 1.0}</td>\n",
       "      <td>25</td>\n",
       "      <td>0</td>\n",
       "      <td>-76.344332</td>\n",
       "      <td>{0: 16, 1: 2, 2: 6, 3: 1, 4: 0}</td>\n",
       "      <td>0</td>\n",
       "      <td>-5.115133</td>\n",
       "      <td>0.126222</td>\n",
       "    </tr>\n",
       "    <tr>\n",
       "      <th>17</th>\n",
       "      <td>18</td>\n",
       "      <td>False</td>\n",
       "      <td>{'a': 0.5, 'e': 1.0}</td>\n",
       "      <td>30</td>\n",
       "      <td>0</td>\n",
       "      <td>-192.400609</td>\n",
       "      <td>{0: 15, 1: 4, 2: 7, 3: 2, 4: 2}</td>\n",
       "      <td>0</td>\n",
       "      <td>-5.115133</td>\n",
       "      <td>0.126222</td>\n",
       "    </tr>\n",
       "    <tr>\n",
       "      <th>18</th>\n",
       "      <td>19</td>\n",
       "      <td>False</td>\n",
       "      <td>{'a': 0.5, 'e': 1.0}</td>\n",
       "      <td>30</td>\n",
       "      <td>0</td>\n",
       "      <td>-114.131159</td>\n",
       "      <td>{0: 15, 1: 5, 2: 10, 3: 0, 4: 0}</td>\n",
       "      <td>0</td>\n",
       "      <td>-5.115133</td>\n",
       "      <td>0.126222</td>\n",
       "    </tr>\n",
       "    <tr>\n",
       "      <th>19</th>\n",
       "      <td>20</td>\n",
       "      <td>False</td>\n",
       "      <td>{'a': 0.5, 'e': 1.0}</td>\n",
       "      <td>20</td>\n",
       "      <td>0</td>\n",
       "      <td>-87.802464</td>\n",
       "      <td>{0: 15, 1: 1, 2: 2, 3: 0, 4: 2}</td>\n",
       "      <td>0</td>\n",
       "      <td>-5.115133</td>\n",
       "      <td>0.126222</td>\n",
       "    </tr>\n",
       "    <tr>\n",
       "      <th>20</th>\n",
       "      <td>1</td>\n",
       "      <td>True</td>\n",
       "      <td>{'a': 0.5, 'e': 1.0}</td>\n",
       "      <td>20</td>\n",
       "      <td>0</td>\n",
       "      <td>-62.647108</td>\n",
       "      <td>{0: 12, 1: 1, 2: 7, 3: 0, 4: 0}</td>\n",
       "      <td>0</td>\n",
       "      <td>-5.115133</td>\n",
       "      <td>0.126222</td>\n",
       "    </tr>\n",
       "    <tr>\n",
       "      <th>21</th>\n",
       "      <td>2</td>\n",
       "      <td>True</td>\n",
       "      <td>{'a': 0.5, 'e': 1.0}</td>\n",
       "      <td>30</td>\n",
       "      <td>0</td>\n",
       "      <td>-182.785987</td>\n",
       "      <td>{0: 18, 1: 4, 2: 4, 3: 1, 4: 3}</td>\n",
       "      <td>0</td>\n",
       "      <td>-5.115133</td>\n",
       "      <td>0.126222</td>\n",
       "    </tr>\n",
       "    <tr>\n",
       "      <th>22</th>\n",
       "      <td>3</td>\n",
       "      <td>True</td>\n",
       "      <td>{'a': 0.5, 'e': 1.0}</td>\n",
       "      <td>30</td>\n",
       "      <td>0</td>\n",
       "      <td>-219.136083</td>\n",
       "      <td>{0: 14, 1: 5, 2: 7, 3: 1, 4: 3}</td>\n",
       "      <td>0</td>\n",
       "      <td>-5.115133</td>\n",
       "      <td>0.126222</td>\n",
       "    </tr>\n",
       "    <tr>\n",
       "      <th>23</th>\n",
       "      <td>4</td>\n",
       "      <td>True</td>\n",
       "      <td>{'a': 0.5, 'e': 1.0}</td>\n",
       "      <td>20</td>\n",
       "      <td>0</td>\n",
       "      <td>-191.537827</td>\n",
       "      <td>{0: 9, 1: 5, 2: 2, 3: 0, 4: 4}</td>\n",
       "      <td>0</td>\n",
       "      <td>-5.115133</td>\n",
       "      <td>0.126222</td>\n",
       "    </tr>\n",
       "    <tr>\n",
       "      <th>24</th>\n",
       "      <td>5</td>\n",
       "      <td>True</td>\n",
       "      <td>{'a': 0.5, 'e': 1.0}</td>\n",
       "      <td>20</td>\n",
       "      <td>0</td>\n",
       "      <td>-79.513902</td>\n",
       "      <td>{0: 12, 1: 4, 2: 3, 3: 0, 4: 1}</td>\n",
       "      <td>0</td>\n",
       "      <td>-5.115133</td>\n",
       "      <td>0.126222</td>\n",
       "    </tr>\n",
       "    <tr>\n",
       "      <th>25</th>\n",
       "      <td>6</td>\n",
       "      <td>True</td>\n",
       "      <td>{'a': 0.5, 'e': 1.0}</td>\n",
       "      <td>25</td>\n",
       "      <td>0</td>\n",
       "      <td>-174.618789</td>\n",
       "      <td>{0: 8, 1: 5, 2: 10, 3: 1, 4: 1}</td>\n",
       "      <td>0</td>\n",
       "      <td>-5.115133</td>\n",
       "      <td>0.126222</td>\n",
       "    </tr>\n",
       "    <tr>\n",
       "      <th>26</th>\n",
       "      <td>7</td>\n",
       "      <td>True</td>\n",
       "      <td>{'a': 0.5, 'e': 1.0}</td>\n",
       "      <td>25</td>\n",
       "      <td>0</td>\n",
       "      <td>-163.134200</td>\n",
       "      <td>{0: 15, 1: 4, 2: 2, 3: 1, 4: 3}</td>\n",
       "      <td>0</td>\n",
       "      <td>-5.115133</td>\n",
       "      <td>0.126222</td>\n",
       "    </tr>\n",
       "    <tr>\n",
       "      <th>27</th>\n",
       "      <td>8</td>\n",
       "      <td>True</td>\n",
       "      <td>{'a': 0.5, 'e': 1.0}</td>\n",
       "      <td>20</td>\n",
       "      <td>0</td>\n",
       "      <td>-24.511077</td>\n",
       "      <td>{0: 15, 1: 2, 2: 3, 3: 0, 4: 0}</td>\n",
       "      <td>0</td>\n",
       "      <td>-5.115133</td>\n",
       "      <td>0.126222</td>\n",
       "    </tr>\n",
       "    <tr>\n",
       "      <th>28</th>\n",
       "      <td>9</td>\n",
       "      <td>True</td>\n",
       "      <td>{'a': 0.5, 'e': 1.0}</td>\n",
       "      <td>20</td>\n",
       "      <td>0</td>\n",
       "      <td>-151.827205</td>\n",
       "      <td>{0: 12, 1: 2, 2: 2, 3: 1, 4: 3}</td>\n",
       "      <td>0</td>\n",
       "      <td>-5.115133</td>\n",
       "      <td>0.126222</td>\n",
       "    </tr>\n",
       "    <tr>\n",
       "      <th>29</th>\n",
       "      <td>10</td>\n",
       "      <td>True</td>\n",
       "      <td>{'a': 0.5, 'e': 1.0}</td>\n",
       "      <td>30</td>\n",
       "      <td>0</td>\n",
       "      <td>-154.368814</td>\n",
       "      <td>{0: 17, 1: 2, 2: 6, 3: 5, 4: 0}</td>\n",
       "      <td>0</td>\n",
       "      <td>-5.115133</td>\n",
       "      <td>0.126222</td>\n",
       "    </tr>\n",
       "  </tbody>\n",
       "</table>\n",
       "</div>"
      ],
      "text/plain": [
       "    trial testing            parameters  initial_deadline  final_deadline  \\\n",
       "0       1   False  {'a': 0.5, 'e': 1.0}                25               0   \n",
       "1       2   False  {'a': 0.5, 'e': 1.0}                25               0   \n",
       "2       3   False  {'a': 0.5, 'e': 1.0}                25               0   \n",
       "3       4   False  {'a': 0.5, 'e': 1.0}                20               0   \n",
       "4       5   False  {'a': 0.5, 'e': 1.0}                20               0   \n",
       "5       6   False  {'a': 0.5, 'e': 1.0}                25               0   \n",
       "6       7   False  {'a': 0.5, 'e': 1.0}                20              11   \n",
       "7       8   False  {'a': 0.5, 'e': 1.0}                20               0   \n",
       "8       9   False  {'a': 0.5, 'e': 1.0}                20               0   \n",
       "9      10   False  {'a': 0.5, 'e': 1.0}                25               0   \n",
       "10     11   False  {'a': 0.5, 'e': 1.0}                20               0   \n",
       "11     12   False  {'a': 0.5, 'e': 1.0}                25               0   \n",
       "12     13   False  {'a': 0.5, 'e': 1.0}                20               0   \n",
       "13     14   False  {'a': 0.5, 'e': 1.0}                20               0   \n",
       "14     15   False  {'a': 0.5, 'e': 1.0}                20               0   \n",
       "15     16   False  {'a': 0.5, 'e': 1.0}                20               0   \n",
       "16     17   False  {'a': 0.5, 'e': 1.0}                25               0   \n",
       "17     18   False  {'a': 0.5, 'e': 1.0}                30               0   \n",
       "18     19   False  {'a': 0.5, 'e': 1.0}                30               0   \n",
       "19     20   False  {'a': 0.5, 'e': 1.0}                20               0   \n",
       "20      1    True  {'a': 0.5, 'e': 1.0}                20               0   \n",
       "21      2    True  {'a': 0.5, 'e': 1.0}                30               0   \n",
       "22      3    True  {'a': 0.5, 'e': 1.0}                30               0   \n",
       "23      4    True  {'a': 0.5, 'e': 1.0}                20               0   \n",
       "24      5    True  {'a': 0.5, 'e': 1.0}                20               0   \n",
       "25      6    True  {'a': 0.5, 'e': 1.0}                25               0   \n",
       "26      7    True  {'a': 0.5, 'e': 1.0}                25               0   \n",
       "27      8    True  {'a': 0.5, 'e': 1.0}                20               0   \n",
       "28      9    True  {'a': 0.5, 'e': 1.0}                20               0   \n",
       "29     10    True  {'a': 0.5, 'e': 1.0}                30               0   \n",
       "\n",
       "    net_reward                           actions  success  average_reward  \\\n",
       "0   -71.092227   {0: 19, 1: 1, 2: 4, 3: 0, 4: 1}        0       -5.115133   \n",
       "1  -129.673578   {0: 14, 1: 2, 2: 5, 3: 4, 4: 0}        0       -5.115133   \n",
       "2  -120.892956   {0: 16, 1: 3, 2: 4, 3: 0, 4: 2}        0       -5.115133   \n",
       "3  -130.887570   {0: 11, 1: 4, 2: 2, 3: 1, 4: 2}        0       -5.115133   \n",
       "4  -177.282167    {0: 9, 1: 1, 2: 6, 3: 2, 4: 2}        0       -5.115133   \n",
       "5  -162.253440   {0: 10, 1: 4, 2: 9, 3: 1, 4: 1}        0       -5.115133   \n",
       "6   -57.250811    {0: 5, 1: 0, 2: 3, 3: 0, 4: 1}        1       -5.115133   \n",
       "7   -50.707191   {0: 13, 1: 1, 2: 6, 3: 0, 4: 0}        0       -5.115133   \n",
       "8  -111.177206   {0: 13, 1: 4, 2: 0, 3: 1, 4: 2}        0       -5.115133   \n",
       "9   -94.322635   {0: 10, 1: 9, 2: 6, 3: 0, 4: 0}        0       -5.115133   \n",
       "10  -54.869804   {0: 12, 1: 3, 2: 5, 3: 0, 4: 0}        0       -5.115133   \n",
       "11  -79.859351   {0: 17, 1: 3, 2: 4, 3: 0, 4: 1}        0       -5.115133   \n",
       "12 -104.227378    {0: 9, 1: 3, 2: 6, 3: 2, 4: 0}        0       -5.115133   \n",
       "13  -85.465783   {0: 12, 1: 2, 2: 5, 3: 0, 4: 1}        0       -5.115133   \n",
       "14 -102.722756   {0: 14, 1: 0, 2: 4, 3: 0, 4: 2}        0       -5.115133   \n",
       "15  -93.708230   {0: 10, 1: 3, 2: 5, 3: 2, 4: 0}        0       -5.115133   \n",
       "16  -76.344332   {0: 16, 1: 2, 2: 6, 3: 1, 4: 0}        0       -5.115133   \n",
       "17 -192.400609   {0: 15, 1: 4, 2: 7, 3: 2, 4: 2}        0       -5.115133   \n",
       "18 -114.131159  {0: 15, 1: 5, 2: 10, 3: 0, 4: 0}        0       -5.115133   \n",
       "19  -87.802464   {0: 15, 1: 1, 2: 2, 3: 0, 4: 2}        0       -5.115133   \n",
       "20  -62.647108   {0: 12, 1: 1, 2: 7, 3: 0, 4: 0}        0       -5.115133   \n",
       "21 -182.785987   {0: 18, 1: 4, 2: 4, 3: 1, 4: 3}        0       -5.115133   \n",
       "22 -219.136083   {0: 14, 1: 5, 2: 7, 3: 1, 4: 3}        0       -5.115133   \n",
       "23 -191.537827    {0: 9, 1: 5, 2: 2, 3: 0, 4: 4}        0       -5.115133   \n",
       "24  -79.513902   {0: 12, 1: 4, 2: 3, 3: 0, 4: 1}        0       -5.115133   \n",
       "25 -174.618789   {0: 8, 1: 5, 2: 10, 3: 1, 4: 1}        0       -5.115133   \n",
       "26 -163.134200   {0: 15, 1: 4, 2: 2, 3: 1, 4: 3}        0       -5.115133   \n",
       "27  -24.511077   {0: 15, 1: 2, 2: 3, 3: 0, 4: 0}        0       -5.115133   \n",
       "28 -151.827205   {0: 12, 1: 2, 2: 2, 3: 1, 4: 3}        0       -5.115133   \n",
       "29 -154.368814   {0: 17, 1: 2, 2: 6, 3: 5, 4: 0}        0       -5.115133   \n",
       "\n",
       "       minor  \n",
       "0   0.126222  \n",
       "1   0.126222  \n",
       "2   0.126222  \n",
       "3   0.126222  \n",
       "4   0.126222  \n",
       "5   0.126222  \n",
       "6   0.126222  \n",
       "7   0.126222  \n",
       "8   0.126222  \n",
       "9   0.126222  \n",
       "10  0.126222  \n",
       "11  0.126222  \n",
       "12  0.126222  \n",
       "13  0.126222  \n",
       "14  0.126222  \n",
       "15  0.126222  \n",
       "16  0.126222  \n",
       "17  0.126222  \n",
       "18  0.126222  \n",
       "19  0.126222  \n",
       "20  0.126222  \n",
       "21  0.126222  \n",
       "22  0.126222  \n",
       "23  0.126222  \n",
       "24  0.126222  \n",
       "25  0.126222  \n",
       "26  0.126222  \n",
       "27  0.126222  \n",
       "28  0.126222  \n",
       "29  0.126222  "
      ]
     },
     "execution_count": 48,
     "metadata": {},
     "output_type": "execute_result"
    }
   ],
   "source": [
    "data"
   ]
  },
  {
   "cell_type": "code",
   "execution_count": 1,
   "metadata": {
    "collapsed": true
   },
   "outputs": [],
   "source": [
    "x = {}"
   ]
  },
  {
   "cell_type": "code",
   "execution_count": 11,
   "metadata": {
    "collapsed": true
   },
   "outputs": [],
   "source": [
    "x['a'] = 1\n",
    "x['b'] = 1"
   ]
  },
  {
   "cell_type": "code",
   "execution_count": 12,
   "metadata": {
    "collapsed": false
   },
   "outputs": [
    {
     "data": {
      "text/plain": [
       "['a', 'b']"
      ]
     },
     "execution_count": 12,
     "metadata": {},
     "output_type": "execute_result"
    }
   ],
   "source": [
    "x.keys()"
   ]
  },
  {
   "cell_type": "code",
   "execution_count": 15,
   "metadata": {
    "collapsed": false
   },
   "outputs": [
    {
     "data": {
      "text/plain": [
       "'a'"
      ]
     },
     "execution_count": 15,
     "metadata": {},
     "output_type": "execute_result"
    }
   ],
   "source": [
    "x.keys()[x.values().index(1)]"
   ]
  },
  {
   "cell_type": "code",
   "execution_count": 16,
   "metadata": {
    "collapsed": false
   },
   "outputs": [
    {
     "data": {
      "text/plain": [
       "2.718281828459045"
      ]
     },
     "execution_count": 16,
     "metadata": {},
     "output_type": "execute_result"
    }
   ],
   "source": [
    "import math \n",
    "math.e"
   ]
  },
  {
   "cell_type": "code",
   "execution_count": 70,
   "metadata": {
    "collapsed": false
   },
   "outputs": [],
   "source": [
    "v = {'forward': 0, None: 0, 'left': 0}"
   ]
  },
  {
   "cell_type": "code",
   "execution_count": 71,
   "metadata": {
    "collapsed": false
   },
   "outputs": [
    {
     "data": {
      "text/plain": [
       "0"
      ]
     },
     "execution_count": 71,
     "metadata": {},
     "output_type": "execute_result"
    }
   ],
   "source": [
    "v['left']"
   ]
  },
  {
   "cell_type": "code",
   "execution_count": 75,
   "metadata": {
    "collapsed": false
   },
   "outputs": [],
   "source": [
    "l = []\n",
    "for k,val in v.iteritems():\n",
    "    if val == 0:\n",
    "        l.append(k)"
   ]
  },
  {
   "cell_type": "code",
   "execution_count": 76,
   "metadata": {
    "collapsed": false
   },
   "outputs": [
    {
     "data": {
      "text/plain": [
       "['forward', None, 'left']"
      ]
     },
     "execution_count": 76,
     "metadata": {},
     "output_type": "execute_result"
    }
   ],
   "source": [
    "l"
   ]
  },
  {
   "cell_type": "code",
   "execution_count": 55,
   "metadata": {
    "collapsed": true
   },
   "outputs": [],
   "source": [
    "e = 1.0\n",
    "for i in range(0, 19):\n",
    "    e = e - 0.05"
   ]
  },
  {
   "cell_type": "code",
   "execution_count": 68,
   "metadata": {
    "collapsed": false
   },
   "outputs": [],
   "source": [
    "x = []\n",
    "for i in range(0, 100):\n",
    "    x.append(2**-i)\n",
    "\n",
    "\n",
    "\n"
   ]
  },
  {
   "cell_type": "code",
   "execution_count": 6,
   "metadata": {
    "collapsed": true
   },
   "outputs": [],
   "source": [
    "\n",
    "import matplotlib.pyplot as plt\n",
    "% matplotlib inline"
   ]
  },
  {
   "cell_type": "code",
   "execution_count": 101,
   "metadata": {
    "collapsed": false
   },
   "outputs": [
    {
     "data": {
      "text/plain": [
       "[<matplotlib.lines.Line2D at 0x7cdfdd8>]"
      ]
     },
     "execution_count": 101,
     "metadata": {},
     "output_type": "execute_result"
    },
    {
     "data": {
      "image/png": "[encoded data removed]",
      "text/plain": [
       "<matplotlib.figure.Figure at 0x790d860>"
      ]
     },
     "metadata": {},
     "output_type": "display_data"
    }
   ],
   "source": [
    "plt.plot(x)"
   ]
  },
  {
   "cell_type": "code",
   "execution_count": 77,
   "metadata": {
    "collapsed": true
   },
   "outputs": [],
   "source": [
    "import random \n"
   ]
  },
  {
   "cell_type": "code",
   "execution_count": 94,
   "metadata": {
    "collapsed": false
   },
   "outputs": [
    {
     "data": {
      "text/plain": [
       "0.5747998969982715"
      ]
     },
     "execution_count": 94,
     "metadata": {},
     "output_type": "execute_result"
    }
   ],
   "source": [
    "random.uniform(0, 1)"
   ]
  },
  {
   "cell_type": "code",
   "execution_count": 13,
   "metadata": {
    "collapsed": false
   },
   "outputs": [],
   "source": [
    "import math\n",
    "n_trials = 1\n",
    "ep = 1.0\n",
    "a = -0.01\n",
    "t = []\n",
    "while(ep>0.001):\n",
    "    ep = math.e**(a*n_trials)\n",
    "    n_trials = n_trials + 1\n",
    "    t.append(ep)\n"
   ]
  },
  {
   "cell_type": "code",
   "execution_count": 14,
   "metadata": {
    "collapsed": false
   },
   "outputs": [
    {
     "data": {
      "text/plain": [
       "692"
      ]
     },
     "execution_count": 14,
     "metadata": {},
     "output_type": "execute_result"
    }
   ],
   "source": [
    "n_trials"
   ]
  },
  {
   "cell_type": "code",
   "execution_count": 29,
   "metadata": {
    "collapsed": false
   },
   "outputs": [
    {
     "data": {
      "text/plain": [
       "[<matplotlib.lines.Line2D at 0x86ef550>]"
      ]
     },
     "execution_count": 29,
     "metadata": {},
     "output_type": "execute_result"
    },
    {
     "data": {
      "image/png": "[encoded data removed]",
      "text/plain": [
       "<matplotlib.figure.Figure at 0x8547a20>"
      ]
     },
     "metadata": {},
     "output_type": "display_data"
    }
   ],
   "source": [
    "plt.plot(t)"
   ]
  },
  {
   "cell_type": "code",
   "execution_count": null,
   "metadata": {
    "collapsed": true
   },
   "outputs": [],
   "source": []
  }
 ],
 "metadata": {
  "kernelspec": {
   "display_name": "Python 2",
   "language": "python",
   "name": "python2"
  },
  "language_info": {
   "codemirror_mode": {
    "name": "ipython",
    "version": 2
   },
   "file_extension": ".py",
   "mimetype": "text/x-python",
   "name": "python",
   "nbconvert_exporter": "python",
   "pygments_lexer": "ipython2",
   "version": "2.7.13"
  }
 },
 "nbformat": 4,
 "nbformat_minor": 2
}
